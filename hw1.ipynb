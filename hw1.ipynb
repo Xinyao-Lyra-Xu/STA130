{
 "cells": [
  {
   "cell_type": "code",
   "execution_count": 2,
   "id": "855054ce",
   "metadata": {},
   "outputs": [
    {
     "data": {
      "text/plain": [
       "row_n           0\n",
       "id              1\n",
       "name            0\n",
       "gender          0\n",
       "species         0\n",
       "birthday        0\n",
       "personality     0\n",
       "song           11\n",
       "phrase          0\n",
       "full_id         0\n",
       "url             0\n",
       "dtype: int64"
      ]
     },
     "execution_count": 2,
     "metadata": {},
     "output_type": "execute_result"
    }
   ],
   "source": [
    "import pandas as pd\n",
    "url = \"https://raw.githubusercontent.com/rfordatascience/tidytuesday/master/data/2020/2020-05-05/villagers.csv\"\n",
    "df = pd.read_csv(url)\n",
    "df.isna().sum()"
   ]
  },
  {
   "cell_type": "code",
   "execution_count": 7,
   "id": "4828537b",
   "metadata": {},
   "outputs": [],
   "source": [
    "#Chatbox is more comfortable to use than google search because it only gives one certain answer. However, the google search will provides me with a lot of result.\n",
    "#I need to spend a lot of time to check whether these results can be used. But the answer given by Chatbox might not be totally correct. However, for the simple question, Chatbox can be trusted."
   ]
  },
  {
   "cell_type": "code",
   "execution_count": 3,
   "id": "5dbc1345",
   "metadata": {},
   "outputs": [
    {
     "data": {
      "text/plain": [
       "row_n           0\n",
       "id              1\n",
       "name            0\n",
       "gender          0\n",
       "species         0\n",
       "birthday        0\n",
       "personality     0\n",
       "song           11\n",
       "phrase          0\n",
       "full_id         0\n",
       "url             0\n",
       "dtype: int64"
      ]
     },
     "execution_count": 3,
     "metadata": {},
     "output_type": "execute_result"
    }
   ],
   "source": [
    "df = pd.read_csv(url)\n",
    "df.isna().sum()"
   ]
  },
  {
   "cell_type": "code",
   "execution_count": 12,
   "id": "78b2c8e7",
   "metadata": {},
   "outputs": [
    {
     "name": "stdout",
     "output_type": "stream",
     "text": [
      "   row_n       id     name  gender    species birthday personality  \\\n",
      "0      2  admiral  Admiral    male       bird     1-27      cranky   \n",
      "1      3  agent-s  Agent S  female   squirrel      7-2       peppy   \n",
      "2      4    agnes    Agnes  female        pig     4-21        uchi   \n",
      "3      6       al       Al    male    gorilla    10-18        lazy   \n",
      "4      7  alfonso  Alfonso    male  alligator      6-9        lazy   \n",
      "\n",
      "          song    phrase           full_id  \\\n",
      "0   Steep Hill   aye aye  villager-admiral   \n",
      "1      DJ K.K.  sidekick  villager-agent-s   \n",
      "2   K.K. House   snuffle    villager-agnes   \n",
      "3   Steep Hill   Ayyeeee       villager-al   \n",
      "4  Forest Life  it'sa me  villager-alfonso   \n",
      "\n",
      "                                                 url  \n",
      "0  https://villagerdb.com/images/villagers/thumb/...  \n",
      "1  https://villagerdb.com/images/villagers/thumb/...  \n",
      "2  https://villagerdb.com/images/villagers/thumb/...  \n",
      "3  https://villagerdb.com/images/villagers/thumb/...  \n",
      "4  https://villagerdb.com/images/villagers/thumb/...  \n"
     ]
    }
   ],
   "source": [
    "# Display the first few rows of the dataset\n",
    "print(df.head())"
   ]
  },
  {
   "cell_type": "code",
   "execution_count": 4,
   "id": "3416bed2",
   "metadata": {},
   "outputs": [
    {
     "name": "stdout",
     "output_type": "stream",
     "text": [
      "Number of rows and columns: (391, 11)\n"
     ]
    }
   ],
   "source": [
    "# Get the shape of the dataset (rows, columns)\n",
    "print(f\"Number of rows and columns: {df.shape}\")"
   ]
  },
  {
   "cell_type": "code",
   "execution_count": 5,
   "id": "0b8ecdeb",
   "metadata": {},
   "outputs": [
    {
     "name": "stdout",
     "output_type": "stream",
     "text": [
      "<class 'pandas.core.frame.DataFrame'>\n",
      "RangeIndex: 391 entries, 0 to 390\n",
      "Data columns (total 11 columns):\n",
      " #   Column       Non-Null Count  Dtype \n",
      "---  ------       --------------  ----- \n",
      " 0   row_n        391 non-null    int64 \n",
      " 1   id           390 non-null    object\n",
      " 2   name         391 non-null    object\n",
      " 3   gender       391 non-null    object\n",
      " 4   species      391 non-null    object\n",
      " 5   birthday     391 non-null    object\n",
      " 6   personality  391 non-null    object\n",
      " 7   song         380 non-null    object\n",
      " 8   phrase       391 non-null    object\n",
      " 9   full_id      391 non-null    object\n",
      " 10  url          391 non-null    object\n",
      "dtypes: int64(1), object(10)\n",
      "memory usage: 33.7+ KB\n",
      "None\n"
     ]
    }
   ],
   "source": [
    "# Get a concise summary of the DataFrame, including column types and non-null counts\n",
    "print(df.info())\n"
   ]
  },
  {
   "cell_type": "code",
   "execution_count": 6,
   "id": "f41fd333",
   "metadata": {},
   "outputs": [
    {
     "name": "stdout",
     "output_type": "stream",
     "text": [
      "row_n           0\n",
      "id              1\n",
      "name            0\n",
      "gender          0\n",
      "species         0\n",
      "birthday        0\n",
      "personality     0\n",
      "song           11\n",
      "phrase          0\n",
      "full_id         0\n",
      "url             0\n",
      "dtype: int64\n"
     ]
    }
   ],
   "source": [
    "# Get the number of missing values in each column\n",
    "print(df.isna().sum())"
   ]
  },
  {
   "cell_type": "code",
   "execution_count": 7,
   "id": "11cb8480",
   "metadata": {},
   "outputs": [
    {
     "name": "stdout",
     "output_type": "stream",
     "text": [
      "            row_n\n",
      "count  391.000000\n",
      "mean   239.902813\n",
      "std    140.702672\n",
      "min      2.000000\n",
      "25%    117.500000\n",
      "50%    240.000000\n",
      "75%    363.500000\n",
      "max    483.000000\n"
     ]
    }
   ],
   "source": [
    "# Get basic statistics about the dataset\n",
    "print(df.describe())"
   ]
  },
  {
   "cell_type": "code",
   "execution_count": 17,
   "id": "f4302e2d",
   "metadata": {},
   "outputs": [
    {
     "name": "stdout",
     "output_type": "stream",
     "text": [
      "Number of rows: 391\n",
      "Number of columns: 11\n"
     ]
    }
   ],
   "source": [
    "# Get the number of rows and columns\n",
    "rows, columns = df.shape\n",
    "\n",
    "# Print the results\n",
    "print(f\"Number of rows: {rows}\")\n",
    "print(f\"Number of columns: {columns}\")"
   ]
  },
  {
   "cell_type": "code",
   "execution_count": null,
   "id": "e98fb692",
   "metadata": {},
   "outputs": [],
   "source": [
    "#General Definitions:\n",
    "#Observations: In my database, it means each row in my dataset refers to each villager in the game. Each villager has their own name, species, birthday, personality, and other attributes. However, generally, it refers to the information the database contains and recorded. Also, it means the information that the database can tell the reader of the database. Each observation is typically represented by a row in a table.(cited from chatgpt)\n",
    "#Variables: In this case of my database, variable refers to each columns in my database which capture different attributes of each villager such as \"name\", \"species\", \"birthday\", \"personality\", and \"hobby\".(cited from Chatgpt) In general, variables refers to the characteristics in each observation."
   ]
  },
  {
   "cell_type": "code",
   "execution_count": 18,
   "id": "95108dbd",
   "metadata": {},
   "outputs": [
    {
     "name": "stdout",
     "output_type": "stream",
     "text": [
      "Summary of numerical columns:\n",
      "            row_n\n",
      "count  391.000000\n",
      "mean   239.902813\n",
      "std    140.702672\n",
      "min      2.000000\n",
      "25%    117.500000\n",
      "50%    240.000000\n",
      "75%    363.500000\n",
      "max    483.000000\n"
     ]
    }
   ],
   "source": [
    "# Summary of numerical columns\n",
    "print(\"Summary of numerical columns:\")\n",
    "print(df.describe())"
   ]
  },
  {
   "cell_type": "code",
   "execution_count": 19,
   "id": "09405380",
   "metadata": {},
   "outputs": [
    {
     "name": "stdout",
     "output_type": "stream",
     "text": [
      "\n",
      "Summary of categorical columns:\n",
      "             id     name gender species birthday personality          song  \\\n",
      "count       390      391    391     391      391         391           380   \n",
      "unique      390      391      2      35      361           8            92   \n",
      "top     admiral  Admiral   male     cat     1-27        lazy  K.K. Country   \n",
      "freq          1        1    204      23        2          60            10   \n",
      "\n",
      "         phrase           full_id  \\\n",
      "count       391               391   \n",
      "unique      388               391   \n",
      "top     wee one  villager-admiral   \n",
      "freq          2                 1   \n",
      "\n",
      "                                                      url  \n",
      "count                                                 391  \n",
      "unique                                                391  \n",
      "top     https://villagerdb.com/images/villagers/thumb/...  \n",
      "freq                                                    1  \n"
     ]
    }
   ],
   "source": [
    "# Summary of categorical (non-numeric) columns\n",
    "print(\"\\nSummary of categorical columns:\")\n",
    "print(df.describe(include='object'))"
   ]
  },
  {
   "cell_type": "code",
   "execution_count": 20,
   "id": "bf34bdb7",
   "metadata": {},
   "outputs": [
    {
     "name": "stdout",
     "output_type": "stream",
     "text": [
      "\n",
      "Missing values per column:\n",
      "row_n           0\n",
      "id              1\n",
      "name            0\n",
      "gender          0\n",
      "species         0\n",
      "birthday        0\n",
      "personality     0\n",
      "song           11\n",
      "phrase          0\n",
      "full_id         0\n",
      "url             0\n",
      "dtype: int64\n"
     ]
    }
   ],
   "source": [
    "# Summary of missing values per column\n",
    "print(\"\\nMissing values per column:\")\n",
    "print(df.isna().sum())"
   ]
  },
  {
   "cell_type": "code",
   "execution_count": 21,
   "id": "604e6908",
   "metadata": {},
   "outputs": [
    {
     "name": "stdout",
     "output_type": "stream",
     "text": [
      "species\n",
      "cat          23\n",
      "rabbit       20\n",
      "frog         18\n",
      "squirrel     18\n",
      "duck         17\n",
      "dog          16\n",
      "cub          16\n",
      "pig          15\n",
      "bear         15\n",
      "mouse        15\n",
      "horse        15\n",
      "bird         13\n",
      "penguin      13\n",
      "sheep        13\n",
      "elephant     11\n",
      "wolf         11\n",
      "ostrich      10\n",
      "deer         10\n",
      "eagle         9\n",
      "gorilla       9\n",
      "chicken       9\n",
      "koala         9\n",
      "goat          8\n",
      "hamster       8\n",
      "kangaroo      8\n",
      "monkey        8\n",
      "anteater      7\n",
      "hippo         7\n",
      "tiger         7\n",
      "alligator     7\n",
      "lion          7\n",
      "bull          6\n",
      "rhino         6\n",
      "cow           4\n",
      "octopus       3\n",
      "Name: count, dtype: int64\n"
     ]
    }
   ],
   "source": [
    "# Replace 'column_name' with the actual column name you want to analyze\n",
    "value_counts = df['species'].value_counts()\n",
    "\n",
    "# Print the value counts for that column\n",
    "print(value_counts)\n",
    "#Explanation:\n",
    "#Replace 'species' with the name of any column you're interested in.\n",
    "#value_counts() will return the number of occurrences for each unique value in the specified column, sorted in descending order."
   ]
  },
  {
   "cell_type": "code",
   "execution_count": 22,
   "id": "3b516a96",
   "metadata": {},
   "outputs": [
    {
     "data": {
      "text/html": [
       "<div>\n",
       "<style scoped>\n",
       "    .dataframe tbody tr th:only-of-type {\n",
       "        vertical-align: middle;\n",
       "    }\n",
       "\n",
       "    .dataframe tbody tr th {\n",
       "        vertical-align: top;\n",
       "    }\n",
       "\n",
       "    .dataframe thead th {\n",
       "        text-align: right;\n",
       "    }\n",
       "</style>\n",
       "<table border=\"1\" class=\"dataframe\">\n",
       "  <thead>\n",
       "    <tr style=\"text-align: right;\">\n",
       "      <th></th>\n",
       "      <th>row_n</th>\n",
       "    </tr>\n",
       "  </thead>\n",
       "  <tbody>\n",
       "    <tr>\n",
       "      <th>count</th>\n",
       "      <td>391.000000</td>\n",
       "    </tr>\n",
       "    <tr>\n",
       "      <th>mean</th>\n",
       "      <td>239.902813</td>\n",
       "    </tr>\n",
       "    <tr>\n",
       "      <th>std</th>\n",
       "      <td>140.702672</td>\n",
       "    </tr>\n",
       "    <tr>\n",
       "      <th>min</th>\n",
       "      <td>2.000000</td>\n",
       "    </tr>\n",
       "    <tr>\n",
       "      <th>25%</th>\n",
       "      <td>117.500000</td>\n",
       "    </tr>\n",
       "    <tr>\n",
       "      <th>50%</th>\n",
       "      <td>240.000000</td>\n",
       "    </tr>\n",
       "    <tr>\n",
       "      <th>75%</th>\n",
       "      <td>363.500000</td>\n",
       "    </tr>\n",
       "    <tr>\n",
       "      <th>max</th>\n",
       "      <td>483.000000</td>\n",
       "    </tr>\n",
       "  </tbody>\n",
       "</table>\n",
       "</div>"
      ],
      "text/plain": [
       "            row_n\n",
       "count  391.000000\n",
       "mean   239.902813\n",
       "std    140.702672\n",
       "min      2.000000\n",
       "25%    117.500000\n",
       "50%    240.000000\n",
       "75%    363.500000\n",
       "max    483.000000"
      ]
     },
     "execution_count": 22,
     "metadata": {},
     "output_type": "execute_result"
    }
   ],
   "source": [
    "#4. If the dataset you're using has (a) non-numeric variables and (b) missing values in numeric variables, explain (perhaps using help from a ChatBot if needed) the discrepancies between size of the dataset given by and what is reported by with respect to (a) the number of columns it analyzes and (b) the values it reports in the \"count\" columndf.shapedf.describe()\n",
    "#The df.describe() function in pandas provides a summary of the statistics for the numerical columns in your dataset. It shows metrics such as count, mean, standard deviation, minimum, maximum, and quartile values (25%, 50%, and 75%) for each numerical column.\n",
    "df.describe()"
   ]
  },
  {
   "cell_type": "code",
   "execution_count": 23,
   "id": "1a1b5b19",
   "metadata": {},
   "outputs": [
    {
     "name": "stdout",
     "output_type": "stream",
     "text": [
      "             id     name gender species birthday personality          song  \\\n",
      "count       390      391    391     391      391         391           380   \n",
      "unique      390      391      2      35      361           8            92   \n",
      "top     admiral  Admiral   male     cat     1-27        lazy  K.K. Country   \n",
      "freq          1        1    204      23        2          60            10   \n",
      "\n",
      "         phrase           full_id  \\\n",
      "count       391               391   \n",
      "unique      388               391   \n",
      "top     wee one  villager-admiral   \n",
      "freq          2                 1   \n",
      "\n",
      "                                                      url  \n",
      "count                                                 391  \n",
      "unique                                                391  \n",
      "top     https://villagerdb.com/images/villagers/thumb/...  \n",
      "freq                                                    1  \n"
     ]
    }
   ],
   "source": [
    "#For Categorical Data:\n",
    "#To get summaries of non-numerical columns (like strings or objects), you can include the include='object' option:\n",
    "summary_categorical = df.describe(include='object')\n",
    "print(summary_categorical)"
   ]
  },
  {
   "cell_type": "code",
   "execution_count": 28,
   "id": "f1329be1",
   "metadata": {},
   "outputs": [
    {
     "data": {
      "text/plain": [
       "(391, 11)"
      ]
     },
     "execution_count": 28,
     "metadata": {},
     "output_type": "execute_result"
    }
   ],
   "source": [
    "#This function returns the total number of rows and columns in the dataset. \n",
    "#The output is in the form (rows, columns). \n",
    "#It includes all columns, regardless of their data type (numeric, categorical, etc.).\n",
    "df.shape"
   ]
  },
  {
   "cell_type": "code",
   "execution_count": 30,
   "id": "bf204d85",
   "metadata": {},
   "outputs": [
    {
     "data": {
      "text/html": [
       "<div>\n",
       "<style scoped>\n",
       "    .dataframe tbody tr th:only-of-type {\n",
       "        vertical-align: middle;\n",
       "    }\n",
       "\n",
       "    .dataframe tbody tr th {\n",
       "        vertical-align: top;\n",
       "    }\n",
       "\n",
       "    .dataframe thead th {\n",
       "        text-align: right;\n",
       "    }\n",
       "</style>\n",
       "<table border=\"1\" class=\"dataframe\">\n",
       "  <thead>\n",
       "    <tr style=\"text-align: right;\">\n",
       "      <th></th>\n",
       "      <th>row_n</th>\n",
       "    </tr>\n",
       "  </thead>\n",
       "  <tbody>\n",
       "    <tr>\n",
       "      <th>count</th>\n",
       "      <td>391.000000</td>\n",
       "    </tr>\n",
       "    <tr>\n",
       "      <th>mean</th>\n",
       "      <td>239.902813</td>\n",
       "    </tr>\n",
       "    <tr>\n",
       "      <th>std</th>\n",
       "      <td>140.702672</td>\n",
       "    </tr>\n",
       "    <tr>\n",
       "      <th>min</th>\n",
       "      <td>2.000000</td>\n",
       "    </tr>\n",
       "    <tr>\n",
       "      <th>25%</th>\n",
       "      <td>117.500000</td>\n",
       "    </tr>\n",
       "    <tr>\n",
       "      <th>50%</th>\n",
       "      <td>240.000000</td>\n",
       "    </tr>\n",
       "    <tr>\n",
       "      <th>75%</th>\n",
       "      <td>363.500000</td>\n",
       "    </tr>\n",
       "    <tr>\n",
       "      <th>max</th>\n",
       "      <td>483.000000</td>\n",
       "    </tr>\n",
       "  </tbody>\n",
       "</table>\n",
       "</div>"
      ],
      "text/plain": [
       "            row_n\n",
       "count  391.000000\n",
       "mean   239.902813\n",
       "std    140.702672\n",
       "min      2.000000\n",
       "25%    117.500000\n",
       "50%    240.000000\n",
       "75%    363.500000\n",
       "max    483.000000"
      ]
     },
     "execution_count": 30,
     "metadata": {},
     "output_type": "execute_result"
    }
   ],
   "source": [
    "df.describe()\n",
    "#By default, df.describe() only analyzes numeric columns, ignoring non-numeric variables like strings or objects. So, if your dataset contains non-numeric columns (e.g., name, species, personality), these will not be included in the output of df.describe() unless explicitly stated (e.g., by using df.describe(include='all')).So, if out of 10 columns, only 4 are numeric, df.describe() will only provide summary statistics for those 4 columns by default.\n",
    "#Discrepancy in number of columns: If your dataset contains both numeric and non-numeric columns, df.shape will count all columns, while df.describe() will only summarize the numeric columns by default."
   ]
  },
  {
   "cell_type": "code",
   "execution_count": 31,
   "id": "0e32d628",
   "metadata": {},
   "outputs": [
    {
     "data": {
      "text/plain": [
       "Index(['row_n', 'id', 'name', 'gender', 'species', 'birthday', 'personality',\n",
       "       'song', 'phrase', 'full_id', 'url'],\n",
       "      dtype='object')"
      ]
     },
     "execution_count": 31,
     "metadata": {},
     "output_type": "execute_result"
    }
   ],
   "source": [
    "df.columns"
   ]
  },
  {
   "cell_type": "code",
   "execution_count": null,
   "id": "57b8acaa",
   "metadata": {},
   "outputs": [],
   "source": [
    "\"\"\"Number of Columns Analyzed\n",
    "df.shape returns the total number of rows and columns in the dataset. It includes all columns—both numeric and non-numeric.\n",
    "By default, df.describe() only analyzes numeric columns, such as integers and floats. Non-numeric columns like strings (object type) or categorical data are not included unless explicitly specified by using df.describe(include='object') or df.describe(include='all').\n",
    "\"\"\""
   ]
  },
  {
   "cell_type": "code",
   "execution_count": null,
   "id": "e74501b1",
   "metadata": {},
   "outputs": [],
   "source": [
    "\"\"\"df.shape[0] (Number of Rows) represents the total number of rows (observations) in the dataset, including both numeric and non-numeric data. df.shape[0] counts every row, regardless of whether or not it contains missing values (NaN) in any columns.\n",
    "df.describe() - \"Count\"refers to the number of non-missing (non-null) values in each column.\n",
    "If a numeric column contains missing values, the \"count\" for that column will be less than the total number of rows reported by df.shape[0]. For instance, if a dataset has 200 rows but a column has 20 missing values (NaNs), the \"count\" for that column will be 180."
   ]
  },
  {
   "cell_type": "code",
   "execution_count": null,
   "id": "f998d61f",
   "metadata": {},
   "outputs": [],
   "source": [
    "#5.\n",
    "#attribute: Without parentheses. It's  a characteristic of the data about the dataset or more precisely, the object.\n",
    "#Method: With parentheses.It's a function which conduct some computation with the data in the object. It provides us with the processed data."
   ]
  },
  {
   "cell_type": "code",
   "execution_count": null,
   "id": "a74c3d9a",
   "metadata": {},
   "outputs": [],
   "source": [
    "#6.The df.describe() method provides the 'count', 'mean', 'std', 'min', '25%', '50%', '75%', and 'max' summary statistics for each variable it analyzes. Give the definitions (perhaps using help from the ChatBot if needed) of each of these summary statistics\n",
    "\"\"\"Count: The number of non-null (non-NaN) observations in a given column. It shows how many valid data points are available for each variable.\n",
    "Mean: The average of the values in the column, calculated by summing all the values and dividing by the count of non-null entries.\n",
    "Standard Deviation (std): The standard deviation is a measure of how spread out the numbers in the column are from the mean. It quantifies the amount of variation or dispersion.\n",
    "Minimum: the smallest value in the column.\n",
    "25th Percentile (25%): Also known as the first quartile, it is the value below which 25% of the data points lie. It divides the lowest 25% of data from the rest.\n",
    "50th Percentile (50%): Also known as the median, it is the value below which 50% of the data points lie. It represents the middle value in the data, dividing the dataset into two equal halves.\n",
    "75th Percentile (75%): Also known as the third quartile, it is the value below which 75% of the data points lie. It separates the lowest 75% of the data from the top 25%.\n",
    " Maximum (max): The largest value in the column.\n"
   ]
  },
  {
   "cell_type": "code",
   "execution_count": 6,
   "id": "efb0b27c",
   "metadata": {},
   "outputs": [
    {
     "name": "stdout",
     "output_type": "stream",
     "text": [
      "   Name   Age         City\n",
      "0  John  25.0     New York\n",
      "1  Jane   NaN  Los Angeles\n",
      "2  Sara  22.0      Chicago\n"
     ]
    }
   ],
   "source": [
    "#df.dropna() might be preferred because it only drops the rows where data is incomplete.\n",
    "#However, del df['col'] deletes that specific column from the DataFrame which means it no longer exists in the DataFrame.\n",
    "#Also, no output will be returned with del df['col'].\n",
    "#For example, \n",
    "import pandas as pd\n",
    "\n",
    "# Sample DataFrame\n",
    "data = {'Name': ['John', 'Jane', 'Sara'],\n",
    "        'Age': [25, None, 22],\n",
    "        'City': ['New York', 'Los Angeles', 'Chicago']}\n",
    "df = pd.DataFrame(data)\n",
    "\n",
    "# Before deletion\n",
    "print(df)"
   ]
  },
  {
   "cell_type": "code",
   "execution_count": 7,
   "id": "d35c0a3a",
   "metadata": {},
   "outputs": [
    {
     "data": {
      "text/html": [
       "<div>\n",
       "<style scoped>\n",
       "    .dataframe tbody tr th:only-of-type {\n",
       "        vertical-align: middle;\n",
       "    }\n",
       "\n",
       "    .dataframe tbody tr th {\n",
       "        vertical-align: top;\n",
       "    }\n",
       "\n",
       "    .dataframe thead th {\n",
       "        text-align: right;\n",
       "    }\n",
       "</style>\n",
       "<table border=\"1\" class=\"dataframe\">\n",
       "  <thead>\n",
       "    <tr style=\"text-align: right;\">\n",
       "      <th></th>\n",
       "      <th>Name</th>\n",
       "      <th>Age</th>\n",
       "      <th>City</th>\n",
       "    </tr>\n",
       "  </thead>\n",
       "  <tbody>\n",
       "    <tr>\n",
       "      <th>0</th>\n",
       "      <td>John</td>\n",
       "      <td>25.0</td>\n",
       "      <td>New York</td>\n",
       "    </tr>\n",
       "    <tr>\n",
       "      <th>2</th>\n",
       "      <td>Sara</td>\n",
       "      <td>22.0</td>\n",
       "      <td>Chicago</td>\n",
       "    </tr>\n",
       "  </tbody>\n",
       "</table>\n",
       "</div>"
      ],
      "text/plain": [
       "   Name   Age      City\n",
       "0  John  25.0  New York\n",
       "2  Sara  22.0   Chicago"
      ]
     },
     "execution_count": 7,
     "metadata": {},
     "output_type": "execute_result"
    }
   ],
   "source": [
    "df.dropna()"
   ]
  },
  {
   "cell_type": "code",
   "execution_count": 10,
   "id": "1efe2f4d",
   "metadata": {},
   "outputs": [],
   "source": [
    "del df['Age']\n",
    "#I need to find the column and then delete it."
   ]
  },
  {
   "cell_type": "code",
   "execution_count": 11,
   "id": "d2904c62",
   "metadata": {},
   "outputs": [
    {
     "name": "stdout",
     "output_type": "stream",
     "text": [
      "   Name         City\n",
      "0  John     New York\n",
      "1  Jane  Los Angeles\n",
      "2  Sara      Chicago\n"
     ]
    }
   ],
   "source": [
    "print (df)"
   ]
  },
  {
   "cell_type": "code",
   "execution_count": 16,
   "id": "35ecd548",
   "metadata": {},
   "outputs": [],
   "source": [
    "#Here is another example which using del df['col'] might be preferred over using df.dropna()\n",
    "#When there are too many missing values in one column, also we need to preserve the data across rows. And column is less relevant. This is a case where deleting the column (del df['col']) is better than removing rows with df.dropna(), as it helps preserve important information and avoids losing too much data due to a single column with missing values.\n",
    "import pandas as pd\n",
    "\n",
    "data2 = {'Name': ['John', 'Jane', 'Sara'],\n",
    "        'Age': [None, None, 22],\n",
    "        'City': ['New York', 'Los Angeles', 'Chicago']}\n",
    "df = pd.DataFrame(data2)"
   ]
  },
  {
   "cell_type": "code",
   "execution_count": 12,
   "id": "de84eb61",
   "metadata": {},
   "outputs": [
    {
     "data": {
      "text/html": [
       "<div>\n",
       "<style scoped>\n",
       "    .dataframe tbody tr th:only-of-type {\n",
       "        vertical-align: middle;\n",
       "    }\n",
       "\n",
       "    .dataframe tbody tr th {\n",
       "        vertical-align: top;\n",
       "    }\n",
       "\n",
       "    .dataframe thead th {\n",
       "        text-align: right;\n",
       "    }\n",
       "</style>\n",
       "<table border=\"1\" class=\"dataframe\">\n",
       "  <thead>\n",
       "    <tr style=\"text-align: right;\">\n",
       "      <th></th>\n",
       "      <th>Name</th>\n",
       "      <th>City</th>\n",
       "    </tr>\n",
       "  </thead>\n",
       "  <tbody>\n",
       "    <tr>\n",
       "      <th>0</th>\n",
       "      <td>John</td>\n",
       "      <td>New York</td>\n",
       "    </tr>\n",
       "    <tr>\n",
       "      <th>1</th>\n",
       "      <td>Jane</td>\n",
       "      <td>Los Angeles</td>\n",
       "    </tr>\n",
       "    <tr>\n",
       "      <th>2</th>\n",
       "      <td>Sara</td>\n",
       "      <td>Chicago</td>\n",
       "    </tr>\n",
       "  </tbody>\n",
       "</table>\n",
       "</div>"
      ],
      "text/plain": [
       "   Name         City\n",
       "0  John     New York\n",
       "1  Jane  Los Angeles\n",
       "2  Sara      Chicago"
      ]
     },
     "execution_count": 12,
     "metadata": {},
     "output_type": "execute_result"
    }
   ],
   "source": [
    "df.dropna()"
   ]
  },
  {
   "cell_type": "code",
   "execution_count": 17,
   "id": "7ccebd5e",
   "metadata": {},
   "outputs": [],
   "source": [
    "del df['Age']"
   ]
  },
  {
   "cell_type": "code",
   "execution_count": 18,
   "id": "7821bf3e",
   "metadata": {},
   "outputs": [
    {
     "name": "stdout",
     "output_type": "stream",
     "text": [
      "   Name         City\n",
      "0  John     New York\n",
      "1  Jane  Los Angeles\n",
      "2  Sara      Chicago\n"
     ]
    }
   ],
   "source": [
    "print(df)"
   ]
  },
  {
   "cell_type": "code",
   "execution_count": null,
   "id": "f97414c4",
   "metadata": {},
   "outputs": [],
   "source": [
    "\"\"\"Why Applying del df['col'] Before df.dropna() Could Be Important:\n",
    "1. data presercation: If the column has a lot of missing data, with df.dropna(), the entire rows that may contain important data in the columns will be removed. With del df['col'], not that much of rows of data will be droped.\n",
    "2. efficiency: If a column is mostly missing, it is preferable to remove it upfront rather than having df.dropna() scan through all the columns and remove rows that could have been kept by simply deleting that one problematic column. Reducing the size of the dataset by removing unnecessary or irrelevant columns with del df['col'] first can make subsequent operations like df.dropna() more efficient."
   ]
  },
  {
   "cell_type": "code",
   "execution_count": 19,
   "id": "113a9e12",
   "metadata": {},
   "outputs": [
    {
     "name": "stdout",
     "output_type": "stream",
     "text": [
      "Before cleaning:\n",
      "      Name   Age   Salary Feedback\n",
      "0    Alice  25.0  50000.0     None\n",
      "1      Bob   NaN  60000.0     None\n",
      "2  Charlie  30.0      NaN     Good\n",
      "3    David   NaN  45000.0     None\n",
      "4      Eva  45.0  70000.0     None\n"
     ]
    }
   ],
   "source": [
    "\"\"\"Remove all missing data from one of the datasets you're considering using some combination of del df['col'] and/or df.dropna() and give a justification for your approach, including a \"before and after\" report of the results of your approach for your dataset.\n",
    "\"\"\"\n",
    "import pandas as pd\n",
    "\n",
    "# Sample dataset with missing values\n",
    "data3 = {\n",
    "    'Name': ['Alice', 'Bob', 'Charlie', 'David', 'Eva'],\n",
    "    'Age': [25, None, 30, None, 45],\n",
    "    'Salary': [50000, 60000, None, 45000, 70000],\n",
    "    'Feedback': [None, None, 'Good', None, None]\n",
    "}\n",
    "\n",
    "df = pd.DataFrame(data3)\n",
    "\n",
    "# Displaying the dataset before cleaning\n",
    "print(\"Before cleaning:\")\n",
    "print(df)"
   ]
  },
  {
   "cell_type": "code",
   "execution_count": null,
   "id": "cc73a9ae",
   "metadata": {},
   "outputs": [],
   "source": [
    "\"\"\"Step 1: Justification for del df['Feedback']\n",
    "The Feedback column contains mostly missing values (4 out of 5 rows have None). This column seems irrelevant for the analysis, especially since it contains non-numeric text data and isn't likely to affect calculations on Age and Salary.\n",
    "By removing the Feedback column, we avoid losing rows with complete data in more important columns."
   ]
  },
  {
   "cell_type": "code",
   "execution_count": 20,
   "id": "81302ea7",
   "metadata": {},
   "outputs": [
    {
     "name": "stdout",
     "output_type": "stream",
     "text": [
      "\n",
      "After deleting 'Feedback':\n",
      "      Name   Age   Salary\n",
      "0    Alice  25.0  50000.0\n",
      "1      Bob   NaN  60000.0\n",
      "2  Charlie  30.0      NaN\n",
      "3    David   NaN  45000.0\n",
      "4      Eva  45.0  70000.0\n"
     ]
    }
   ],
   "source": [
    "# Deleting the 'Feedback' column\n",
    "del df['Feedback']\n",
    "\n",
    "# Displaying the dataset after deleting 'Feedback'\n",
    "print(\"\\nAfter deleting 'Feedback':\")\n",
    "print(df)\n"
   ]
  },
  {
   "cell_type": "code",
   "execution_count": null,
   "id": "0e64c22f",
   "metadata": {},
   "outputs": [],
   "source": [
    "\"\"\"Step 2: Justification for df.dropna()\n",
    "After removing the Feedback column, we still have some missing values in Age and Salary. Now, it’s appropriate to use df.dropna() to remove rows with missing data because both Age and Salary are likely critical for analysis, and missing values here will affect the integrity of the results.\n",
    "Using df.dropna() ensures that only complete rows (rows with no missing values) are retained."
   ]
  },
  {
   "cell_type": "code",
   "execution_count": 21,
   "id": "c3872628",
   "metadata": {},
   "outputs": [
    {
     "name": "stdout",
     "output_type": "stream",
     "text": [
      "\n",
      "After dropping rows with missing values:\n",
      "    Name   Age   Salary\n",
      "0  Alice  25.0  50000.0\n",
      "4    Eva  45.0  70000.0\n"
     ]
    }
   ],
   "source": [
    "# Dropping rows with missing values\n",
    "df_clean = df.dropna()\n",
    "\n",
    "# Displaying the dataset after dropping rows with missing values\n",
    "print(\"\\nAfter dropping rows with missing values:\")\n",
    "print(df_clean)\n"
   ]
  },
  {
   "cell_type": "code",
   "execution_count": null,
   "id": "bcd8961b",
   "metadata": {},
   "outputs": [],
   "source": [
    "\"\"\"Justification for the Approach:\n",
    "Removing Feedback Column: Since Feedback had mostly missing data and was irrelevant to the analysis, removing it with del df['Feedback'] avoided unnecessarily removing rows that contained valuable information in the Age and Salary columns.\n",
    "Dropping Rows with Missing Values: After deleting the irrelevant column, we used df.dropna() to remove rows with missing data in critical columns (Age and Salary). This ensured that the final dataset was free of missing values and ready for analysis.\n",
    "Conclusion:\n",
    "By using a combination of del df['col'] and df.dropna(), we were able to remove the irrelevant Feedback column and clean the dataset to ensure all remaining rows have complete data in the important columns (Age and Salary). This resulted in a smaller but cleaner and more reliable dataset for further analysis."
   ]
  },
  {
   "cell_type": "code",
   "execution_count": 22,
   "id": "3352a545",
   "metadata": {},
   "outputs": [
    {
     "name": "stdout",
     "output_type": "stream",
     "text": [
      "   survived  pclass     sex   age  sibsp  parch     fare embarked  class  \\\n",
      "0         0       3    male  22.0      1      0   7.2500        S  Third   \n",
      "1         1       1  female  38.0      1      0  71.2833        C  First   \n",
      "2         1       3  female  26.0      0      0   7.9250        S  Third   \n",
      "3         1       1  female  35.0      1      0  53.1000        S  First   \n",
      "4         0       3    male  35.0      0      0   8.0500        S  Third   \n",
      "\n",
      "     who  adult_male deck  embark_town alive  alone  \n",
      "0    man        True  NaN  Southampton    no  False  \n",
      "1  woman       False    C    Cherbourg   yes  False  \n",
      "2  woman       False  NaN  Southampton   yes   True  \n",
      "3  woman       False    C  Southampton   yes  False  \n",
      "4    man        True  NaN  Southampton    no   True  \n"
     ]
    }
   ],
   "source": [
    "import pandas as pd\n",
    "\n",
    "# Load the Titanic dataset\n",
    "url = \"https://raw.githubusercontent.com/mwaskom/seaborn-data/master/titanic.csv\"\n",
    "df = pd.read_csv(url)\n",
    "\n",
    "# Display the first few rows of the dataset\n",
    "print(df.head())\n",
    "#pd.read_csv(url): This function loads the CSV file from the given URL into a DataFrame.\n",
    "#df.head(): This displays the first 5 rows of the dataset, which gives you a quick overview of the data structure.\n"
   ]
  },
  {
   "cell_type": "code",
   "execution_count": 23,
   "id": "f6ddf4f5",
   "metadata": {},
   "outputs": [
    {
     "name": "stdout",
     "output_type": "stream",
     "text": [
      "         survived      pclass         age       sibsp       parch        fare\n",
      "count  891.000000  891.000000  714.000000  891.000000  891.000000  891.000000\n",
      "mean     0.383838    2.308642   29.699118    0.523008    0.381594   32.204208\n",
      "std      0.486592    0.836071   14.526497    1.102743    0.806057   49.693429\n",
      "min      0.000000    1.000000    0.420000    0.000000    0.000000    0.000000\n",
      "25%      0.000000    2.000000   20.125000    0.000000    0.000000    7.910400\n",
      "50%      0.000000    3.000000   28.000000    0.000000    0.000000   14.454200\n",
      "75%      1.000000    3.000000   38.000000    1.000000    0.000000   31.000000\n",
      "max      1.000000    3.000000   80.000000    8.000000    6.000000  512.329200\n"
     ]
    }
   ],
   "source": [
    "# Summary statistics of the dataset\n",
    "print(df.describe())\n"
   ]
  },
  {
   "cell_type": "code",
   "execution_count": 24,
   "id": "f59cc2a0",
   "metadata": {},
   "outputs": [
    {
     "name": "stdout",
     "output_type": "stream",
     "text": [
      "survived         0\n",
      "pclass           0\n",
      "sex              0\n",
      "age            177\n",
      "sibsp            0\n",
      "parch            0\n",
      "fare             0\n",
      "embarked         2\n",
      "class            0\n",
      "who              0\n",
      "adult_male       0\n",
      "deck           688\n",
      "embark_town      2\n",
      "alive            0\n",
      "alone            0\n",
      "dtype: int64\n"
     ]
    }
   ],
   "source": [
    "# Checking for missing values\n",
    "print(df.isnull().sum())\n",
    "#df.describe(): This provides summary statistics for the numerical columns in the dataset (e.g., age, fare).\n",
    "#df.isnull().sum(): This function checks for missing values in each column and gives a count of how many are missing in each."
   ]
  },
  {
   "cell_type": "code",
   "execution_count": 25,
   "id": "3d419207",
   "metadata": {},
   "outputs": [
    {
     "name": "stdout",
     "output_type": "stream",
     "text": [
      "survived         int64\n",
      "pclass           int64\n",
      "sex             object\n",
      "age            float64\n",
      "sibsp            int64\n",
      "parch            int64\n",
      "fare           float64\n",
      "embarked        object\n",
      "class           object\n",
      "who             object\n",
      "adult_male        bool\n",
      "deck            object\n",
      "embark_town     object\n",
      "alive           object\n",
      "alone             bool\n",
      "dtype: object\n"
     ]
    }
   ],
   "source": [
    "# Display the data types of each column\n",
    "print(df.dtypes)\n"
   ]
  },
  {
   "cell_type": "code",
   "execution_count": 27,
   "id": "4a59daa9",
   "metadata": {},
   "outputs": [
    {
     "name": "stdout",
     "output_type": "stream",
     "text": [
      "        count       mean        std  min       25%      50%   75%       max\n",
      "class                                                                      \n",
      "First   216.0  84.154687  78.380373  0.0  30.92395  60.2875  93.5  512.3292\n",
      "Second  184.0  20.662183  13.417399  0.0  13.00000  14.2500  26.0   73.5000\n",
      "Third   491.0  13.675550  11.778142  0.0   7.75000   8.0500  15.5   69.5500\n"
     ]
    }
   ],
   "source": [
    "\"\"\"Understanding df.groupby(\"col1\")[\"col2\"].describe()\n",
    "The expression df.groupby(\"col1\")[\"col2\"].describe() groups the DataFrame df by the unique values in col1 and then provides descriptive statistics (e.g., count, mean, std, min, max, etc.) for the values of col2 within each group.\n",
    "\n",
    "groupby(\"col1\"): This groups the data by the unique values of the column col1. After this operation, the DataFrame is split into groups where all the rows in each group share the same value of col1.\n",
    "\n",
    "[\"col2\"]: This selects col2, the column on which you want to compute the descriptive statistics.\n",
    "\n",
    "describe(): This provides summary statistics like count, mean, standard deviation, min, max, and other percentiles for col2, but calculated separately for each group defined by col1.\n",
    "Let's demonstrate this with a different example from the Titanic dataset. For instance, we can group the passengers by their class (class) and look at the descriptive statistics for their fare (fare).\n",
    "\"\"\"\n",
    "# Load the Titanic dataset\n",
    "import pandas as pd\n",
    "url = \"https://raw.githubusercontent.com/mwaskom/seaborn-data/master/titanic.csv\"\n",
    "df = pd.read_csv(url)\n",
    "\n",
    "# Group by 'class' and get descriptive statistics for 'fare'\n",
    "grouped_stats = df.groupby(\"class\")[\"fare\"].describe()\n",
    "\n",
    "# Display the result\n",
    "print(grouped_stats)\n"
   ]
  },
  {
   "cell_type": "code",
   "execution_count": null,
   "id": "1f4d1a55",
   "metadata": {},
   "outputs": [],
   "source": [
    "\"\"\"\n",
    "df.groupby(\"class\")[\"fare\"].describe(): This groups the passengers by their class (class), and for each group (e.g., First, Second, Third class), it calculates descriptive statistics (count, mean, std, min, max, etc.) for the fare column.\n",
    "\"\"\""
   ]
  },
  {
   "cell_type": "code",
   "execution_count": null,
   "id": "34e83505",
   "metadata": {},
   "outputs": [],
   "source": [
    "\"\"\"\n",
    "Explanation of the Output:\n",
    "Group by class: The data is grouped by the values in the class column (First, Second, Third class).\n",
    "Descriptive statistics for fare:\n",
    "Count: Number of passengers in each class.\n",
    "Mean: The average fare paid by passengers in each class.\n",
    "Std: The standard deviation of fares in each class, showing the spread of the data.\n",
    "Min, Max: The minimum and maximum fare paid in each class.\n",
    "Percentiles (25%, 50%, 75%): The 25th, 50th (median), and 75th percentiles of the fares in each class, which show the distribution of fares.\n",
    "Why Use groupby with describe()?\n",
    "It allows you to summarize data within subgroups (e.g., by class in this case) and compare the statistics across those groups.\n",
    "You can quickly see how different groups vary in terms of the distribution of another variable (like fare in this example).\n",
    "\"\"\""
   ]
  },
  {
   "cell_type": "code",
   "execution_count": 28,
   "id": "b03264c3",
   "metadata": {},
   "outputs": [
    {
     "name": "stdout",
     "output_type": "stream",
     "text": [
      "         survived      pclass         age       sibsp       parch        fare\n",
      "count  891.000000  891.000000  714.000000  891.000000  891.000000  891.000000\n",
      "mean     0.383838    2.308642   29.699118    0.523008    0.381594   32.204208\n",
      "std      0.486592    0.836071   14.526497    1.102743    0.806057   49.693429\n",
      "min      0.000000    1.000000    0.420000    0.000000    0.000000    0.000000\n",
      "25%      0.000000    2.000000   20.125000    0.000000    0.000000    7.910400\n",
      "50%      0.000000    3.000000   28.000000    0.000000    0.000000   14.454200\n",
      "75%      1.000000    3.000000   38.000000    1.000000    0.000000   31.000000\n",
      "max      1.000000    3.000000   80.000000    8.000000    6.000000  512.329200\n"
     ]
    }
   ],
   "source": [
    "\"\"\"\n",
    "df.describe() and Count Values\n",
    "df.describe() provides summary statistics for each column independently, ignoring missing values. The count in this context reflects the number of non-missing values for each column across the entire dataset.\n",
    "\n",
    "For example, if a column has missing values, the count will show how many valid, non-null entries are present for that column. Each column is evaluated separately for its non-null count, and no comparison or relationship between different columns is made.\n",
    "\"\"\"\n",
    "print(df.describe())\n"
   ]
  },
  {
   "cell_type": "code",
   "execution_count": 29,
   "id": "6a64a15f",
   "metadata": {},
   "outputs": [
    {
     "data": {
      "text/html": [
       "<div>\n",
       "<style scoped>\n",
       "    .dataframe tbody tr th:only-of-type {\n",
       "        vertical-align: middle;\n",
       "    }\n",
       "\n",
       "    .dataframe tbody tr th {\n",
       "        vertical-align: top;\n",
       "    }\n",
       "\n",
       "    .dataframe thead th {\n",
       "        text-align: right;\n",
       "    }\n",
       "</style>\n",
       "<table border=\"1\" class=\"dataframe\">\n",
       "  <thead>\n",
       "    <tr style=\"text-align: right;\">\n",
       "      <th></th>\n",
       "      <th>count</th>\n",
       "      <th>mean</th>\n",
       "      <th>std</th>\n",
       "      <th>min</th>\n",
       "      <th>25%</th>\n",
       "      <th>50%</th>\n",
       "      <th>75%</th>\n",
       "      <th>max</th>\n",
       "    </tr>\n",
       "    <tr>\n",
       "      <th>class</th>\n",
       "      <th></th>\n",
       "      <th></th>\n",
       "      <th></th>\n",
       "      <th></th>\n",
       "      <th></th>\n",
       "      <th></th>\n",
       "      <th></th>\n",
       "      <th></th>\n",
       "    </tr>\n",
       "  </thead>\n",
       "  <tbody>\n",
       "    <tr>\n",
       "      <th>First</th>\n",
       "      <td>216.0</td>\n",
       "      <td>84.154687</td>\n",
       "      <td>78.380373</td>\n",
       "      <td>0.0</td>\n",
       "      <td>30.92395</td>\n",
       "      <td>60.2875</td>\n",
       "      <td>93.5</td>\n",
       "      <td>512.3292</td>\n",
       "    </tr>\n",
       "    <tr>\n",
       "      <th>Second</th>\n",
       "      <td>184.0</td>\n",
       "      <td>20.662183</td>\n",
       "      <td>13.417399</td>\n",
       "      <td>0.0</td>\n",
       "      <td>13.00000</td>\n",
       "      <td>14.2500</td>\n",
       "      <td>26.0</td>\n",
       "      <td>73.5000</td>\n",
       "    </tr>\n",
       "    <tr>\n",
       "      <th>Third</th>\n",
       "      <td>491.0</td>\n",
       "      <td>13.675550</td>\n",
       "      <td>11.778142</td>\n",
       "      <td>0.0</td>\n",
       "      <td>7.75000</td>\n",
       "      <td>8.0500</td>\n",
       "      <td>15.5</td>\n",
       "      <td>69.5500</td>\n",
       "    </tr>\n",
       "  </tbody>\n",
       "</table>\n",
       "</div>"
      ],
      "text/plain": [
       "        count       mean        std  min       25%      50%   75%       max\n",
       "class                                                                      \n",
       "First   216.0  84.154687  78.380373  0.0  30.92395  60.2875  93.5  512.3292\n",
       "Second  184.0  20.662183  13.417399  0.0  13.00000  14.2500  26.0   73.5000\n",
       "Third   491.0  13.675550  11.778142  0.0   7.75000   8.0500  15.5   69.5500"
      ]
     },
     "execution_count": 29,
     "metadata": {},
     "output_type": "execute_result"
    }
   ],
   "source": [
    "\"\"\"\n",
    "df.groupby(\"col1\")[\"col2\"].describe() groups the data based on the unique values of col1 and calculates the statistics (including count) for each group in col1, based on the values of col2.\n",
    "\n",
    "The count here reflects the number of non-null values of col2 for each group in col1. The missing values in col2 are still ignored, but now the count also represents the size of each group defined by col1.\n",
    "\"\"\"\n",
    "df.groupby(\"class\")[\"fare\"].describe()\n",
    "\"\"\"Count in this case reflects how many non-missing fare values exist within each group of class (e.g., 216 for First class, 184 for Second class).\n",
    "The primary function of count in groupby is to show the size of each group after filtering out missing data. It gives insight into how many data points contribute to the statistics calculated for each group.\n",
    "\"\"\"\n"
   ]
  },
  {
   "cell_type": "code",
   "execution_count": null,
   "id": "a67ece49",
   "metadata": {},
   "outputs": [],
   "source": [
    "#more about question 9: url: https://chatgpt.com/share/66e39e01-87ec-8008-ba69-aa1cc8a27946"
   ]
  },
  {
   "cell_type": "code",
   "execution_count": null,
   "id": "a94fc79a",
   "metadata": {},
   "outputs": [],
   "source": [
    "#question 9 i: https://chatgpt.com/share/66e39f7c-4c50-8008-992c-07014831f473"
   ]
  },
  {
   "cell_type": "code",
   "execution_count": null,
   "id": "f4eae039",
   "metadata": {},
   "outputs": [],
   "source": [
    "#q9ii: url:https://chatgpt.com/share/66e3a023-3150-8008-be45-0451308c7fdc"
   ]
  },
  {
   "cell_type": "code",
   "execution_count": null,
   "id": "b0dc03c5",
   "metadata": {},
   "outputs": [],
   "source": [
    "#q9iii: url:https://chatgpt.com/share/66e3a071-cc5c-8008-a302-0fc0f4fc975c"
   ]
  },
  {
   "cell_type": "code",
   "execution_count": null,
   "id": "3651f472",
   "metadata": {},
   "outputs": [],
   "source": [
    "#q9iv-vii: url:https://chatgpt.com/share/66e3a15c-6c30-8008-b656-461a8e44c30a"
   ]
  },
  {
   "cell_type": "code",
   "execution_count": null,
   "id": "8d444241",
   "metadata": {},
   "outputs": [],
   "source": [
    "#9. Have you reviewed the course wiki-textbook and interacted with a ChatBot (or, if that wasn't sufficient, real people in the course piazza discussion board or TA office hours) to help you understand all the material in the tutorial and lecture that you didn't quite follow when you first saw it?\n",
    "#yes"
   ]
  },
  {
   "cell_type": "code",
   "execution_count": null,
   "id": "8516392a",
   "metadata": {},
   "outputs": [],
   "source": [
    "#almost all of those I type is cited from chatgpt except those need my own words.\n",
    "#chatgpt link1: https://chatgpt.com/share/66e38e6b-a0c4-8008-99ab-c95e62561bc9"
   ]
  }
 ],
 "metadata": {
  "kernelspec": {
   "display_name": "Python 3 (ipykernel)",
   "language": "python",
   "name": "python3"
  },
  "language_info": {
   "codemirror_mode": {
    "name": "ipython",
    "version": 3
   },
   "file_extension": ".py",
   "mimetype": "text/x-python",
   "name": "python",
   "nbconvert_exporter": "python",
   "pygments_lexer": "ipython3",
   "version": "3.11.6"
  }
 },
 "nbformat": 4,
 "nbformat_minor": 5
}
