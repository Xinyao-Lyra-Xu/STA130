{
 "cells": [
  {
   "cell_type": "markdown",
   "id": "c681f651",
   "metadata": {},
   "source": [
    "# STA130 Homework 08\n",
    "\n",
    "Please see the course [wiki-textbook](https://github.com/pointOfive/stat130chat130/wiki) for the list of topics covered in this homework assignment, and a list of topics that might appear during ChatBot conversations which are \"out of scope\" for the purposes of this homework assignment (and hence can be safely ignored if encountered)\n",
    "\n",
    "<details class=\"details-example\"><summary style=\"color:blue\"><u>Introduction</u></summary>\n",
    "\n",
    "### Introduction\n",
    "    \n",
    "A reasonable characterization of STA130 Homework is that it simply defines a weekly reading comprehension assignment. \n",
    "Indeed, STA130 Homework essentially boils down to completing various understanding confirmation exercises oriented around coding and writing tasks.\n",
    "However, rather than reading a textbook, STA130 Homework is based on ChatBots so students can interactively follow up to clarify questions or confusion that they may still have regarding learning objective assignments.\n",
    "\n",
    "> Communication is a fundamental skill underlying statistics and data science, so STA130 Homework based on ChatBots helps practice effective two-way communication as part of a \"realistic\" dialogue activity supporting underlying conceptual understanding building. \n",
    "\n",
    "It will likely become increasingly tempting to rely on ChatBots to \"do the work for you\". But when you find yourself frustrated with a ChatBots inability to give you the results you're looking for, this is a \"hint\" that you've become overreliant on the ChatBots. Your objective should not be to have ChatBots \"do the work for you\", but to use ChatBots to help you build your understanding so you can efficiently leverage ChatBots (and other resources) to help you work more efficiently.<br><br>\n",
    "\n",
    "</details>\n",
    "\n",
    "<details class=\"details-example\"><summary style=\"color:blue\"><u>Instructions</u></summary>\n",
    "\n",
    "### Instructions\n",
    "    \n",
    "1. Code and write all your answers (for both the \"Pre-lecture\" and \"Post-lecture\" HW) in a python notebook (in code and markdown cells) \n",
    "    \n",
    "> It is *suggested but not mandatory* that you complete the \"Pre-lecture\" HW prior to the Monday LEC since (a) all HW is due at the same time; but, (b) completing some of the HW early will mean better readiness for LEC and less of a \"procrastentation cruch\" towards the end of the week...\n",
    "    \n",
    "2. Paste summaries of your ChatBot sessions (including link(s) to chat log histories if you're using ChatGPT) within your notebook\n",
    "    \n",
    "> Create summaries of your ChatBot sessions by using concluding prompts such as \"Please provide a summary of our exchanges here so I can submit them as a record of our interactions as part of a homework assignment\" or, \"Please provide me with the final working verson of the code that we created together\"\n",
    "    \n",
    "3. Save your python jupyter notebook in your own account and \"repo\" on [github.com](github.com) and submit a link to that notebook though Quercus for assignment marking<br><br>\n",
    "\n",
    "</details>\n",
    "\n",
    "<details class=\"details-example\"><summary style=\"color:blue\"><u>Prompt Engineering?</u></summary>\n",
    "    \n",
    "### Prompt Engineering? \n",
    "    \n",
    "The questions (as copy-pasted prompts) are designed to initialize appropriate ChatBot conversations which can be explored in the manner of an interactive and dynamic textbook; but, it is nonetheless **strongly recommendated** that your rephrase the questions in a way that you find natural to ensure a clear understanding of the question. Given sensible prompts the represent a question well, the two primary challenges observed to arise from ChatBots are \n",
    "\n",
    "1. conversations going beyond the intended scope of the material addressed by the question; and, \n",
    "2. unrecoverable confusion as a result of sequential layers logial inquiry that cannot be resolved. \n",
    "\n",
    "In the case of the former (1), adding constraints specifying the limits of considerations of interest tends to be helpful; whereas, the latter (2) is often the result of initial prompting that leads to poor developments in navigating the material, which are likely just best resolve by a \"hard reset\" with a new initial approach to prompting.  Indeed, this is exactly the behavior [hardcoded into copilot](https://answers.microsoft.com/en-us/bing/forum/all/is-this-even-normal/0b6dcab3-7d6c-4373-8efe-d74158af3c00)...\n",
    "\n",
    "</details>\n",
    "\n",
    "### Marking Rubric (which may award partial credit)\n",
    "- [0.1 points]: All relevant ChatBot summaries [including link(s) to chat log histories if you're using ChatGPT] are reported within the notebook\n",
    "- [0.2 points]: Well-communicated and sensible answers for Question \"2\"\n",
    "- [0.2 points]: Correct code and well-communicated correct answer for Question \"4\" \n",
    "- [0.2 points]: Correct calculations for requested metrics in Question \"6\" \n",
    "- [0.3 points]: Correct and well-communicated explanation of differences for Question \"7\" \n",
    "<!-- - [0.1 points]: Written submission evaluation and enagement confirmation with ChatBot summaries for \"8\", \"10\"-->\n"
   ]
  },
  {
   "cell_type": "markdown",
   "id": "cde92d3b",
   "metadata": {},
   "source": [
    "## \"Pre-lecture\" HW [*completion prior to next LEC is suggested but not mandatory*]"
   ]
  },
  {
   "cell_type": "markdown",
   "id": "c3519aec",
   "metadata": {},
   "source": [
    "### 1. Start a ChatBot session to understand what a *Classification Decision Tree* is: (a) ask the ChatBot to describe the type of problem a *Classification Decision Tree* addresses and provide some examples of real-world applications where this might be particularly useful, and then (b) make sure you understand the difference between how a *Classification Decision Tree* makes *(classification) predictions* versus how *Multiple Linear Regression* makes *(regression) predictions*<br>\n",
    "\n",
    "<details class=\"details-example\"><summary style=\"color:blue\"><u>Further Guidance</u></summary>\n",
    "\n",
    "> _The first part (a) of this question is looking for you to understand the difference between **classification** and **regression**. The second part (b) of the questions is looking for a fairly high level understanding of the general nature of a decision tree and how it is based on making sequential decisions down the *nodes* of *tree* in order to eventually make a final prediction. This part (b) is essentially the **Classification Decision Tree** analog of \"explain how the **linear form** makes a prediciton in **Multiple Linear Regression** generally speaking\"; namely,\"explain how the **tree** makes a prediciton in a **Classification Decision Tree** generally speaking\"._\n",
    "> \n",
    "> _**If you're struggling with this, it would probably be most helpful to go search for and some images of example decision trees to look at!**_\n",
    "> \n",
    "> - _You may be beginning to realize or will nonetheless eventually come to understand that the sequential decisions at each stage of the **Decision Tree** are **interactions** (in the same manner as **interactions** in **Multiple Linear Regression**.  Once you start to see that and it's making sense to you then you'll increasingly appreciate how **complex** **Decision Tree** models can be, even though they're pretty simple to understand if you just look at one._\n",
    ">\n",
    "> ---\n",
    ">    \n",
    "> _When using chatbots, it's often more effective (and enjoyable) to ask concise, single questions rather than presenting complex, multi-part queries. This approach can help in obtaining clearer and more specific responses (that might be more enjoyable to interact with). You can always ask multi-part questions as a series of additional sequential questions. With this approach, chatbots may not automatically reiterate previously explained concepts. So if you need a refresher or further explanation on a topic discussed earlier, just explicitly request during follow-up interactions._\n",
    "> \n",
    "> ---\n",
    "> \n",
    "> _Don't forget to ask for summaries of all your different ChatBot sessions and organize and paste these into your homework notebook (including link(s) to chat log histories if you're using ChatBot); but, if you're using the STA130 custom NBLM ChatBot, you'll only be able to ask for summaries, of course!_ \n",
    "    \n",
    "</details>"
   ]
  },
  {
   "cell_type": "code",
   "execution_count": null,
   "id": "5a662ea7",
   "metadata": {},
   "outputs": [],
   "source": [
    "### (a) **What Problem Does a Classification Decision Tree Address?**  \n",
    "A Classification Decision Tree predicts **categorical outcomes** by splitting data into groups based on feature thresholds.  \n",
    "\n",
    "**Examples:**  \n",
    "- Medical diagnosis (disease: Yes/No)  \n",
    "- Fraud detection (fraudulent: Yes/No)  \n",
    "- Email filtering (Spam/Not Spam)  \n",
    "\n",
    "---\n",
    "\n",
    "### (b) **Key Differences: Classification Decision Tree vs. Multiple Linear Regression**  \n",
    "\n",
    "| **Aspect**              | **Classification Decision Tree**        | **Multiple Linear Regression**       |\n",
    "|-------------------------|----------------------------------------|-------------------------------------|\n",
    "| **Problem Type**         | Categorical outcomes (classification) | Continuous outcomes (regression)   |\n",
    "| **Prediction Method**    | Feature-based splits                  | Weighted sum of features            |\n",
    "| **Output**               | Class labels or probabilities         | Continuous numeric values          |  \n",
    "| **Decision Boundaries**  | Nonlinear, piecewise                   | Linear, continuous                  |  \n",
    "\n",
    "Would you like examples or deeper insights on either?"
   ]
  },
  {
   "cell_type": "code",
   "execution_count": null,
   "id": "0ea1bbff",
   "metadata": {},
   "outputs": [],
   "source": [
    "chatgpt link: https://chatgpt.com/share/673fbce7-d7e4-8008-92cf-669bb34a07c1"
   ]
  },
  {
   "cell_type": "markdown",
   "id": "10795611",
   "metadata": {},
   "source": [
    "### 2. Continue your ChatBot session and explore with your ChatBot what real-world application scenario(s) might be most appropriately addressed by each of the following *metrics* below: provide your answers and, in your own words, *concisely explain your rationale for your answers.*<br>"
   ]
  },
  {
   "cell_type": "markdown",
   "id": "df08c515",
   "metadata": {},
   "source": [
    "1. **Accuracy** measures the proportion of true results (both true positives and true negatives) in the population.\n",
    "\n",
    "$$\\text{Accuracy} = \\frac{TP + TN}{TP + TN + FP + FN}$$\n",
    "    \n",
    "2. **Sensitivity** measures the proportion of actual positives that are correctly identified.\n",
    "\n",
    "$$\\text{Sensitivity} = \\frac{TP}{TP + FN}$$\n",
    "\n",
    "3. **Specificity** measures the proportion of actual negatives that are correctly identified.\n",
    "\n",
    "$$\\text{Specificity} = \\frac{TN}{TN + FP}$$\n",
    "\n",
    "4. **Precision** measures the proportion of positive identifications that were actually correct.\n",
    "\n",
    "$$\\text{Precision} = \\frac{TP}{TP + FP}$$\n",
    "\n",
    "<details class=\"details-example\"><summary style=\"color:blue\"><u>Further Guidance</u></summary>\n",
    "\n",
    "> _This question could be restated as, \"Give examples of real-world examples where each of these **metrics** would be particularly useful.\"_\n",
    ">\n",
    "> _The primary objective here is to understand the distinction between each of these **metrics**. The secondary objective is to notice how the nature of the decision-making that each of these **metrics** most naturally supports is very distinct, ideally based on identifying memorable examples that really distinguish between the **metrics**._\n",
    ">\n",
    "> - _Have a look at this (greatly expanded) handy list of additional metrics, formulas, and synonyms at the following [wikipedia page](https://en.wikipedia.org/wiki/Sensitivity_and_specificity) if you want this to get real crazy real fast._\n",
    ">    \n",
    "> ---\n",
    "> \n",
    "> _Don't forget to ask for summaries of all your different ChatBot sessions and organize and paste these into your homework notebook (including link(s) to chat log histories if you're using ChatBot); but, if you're using the STA130 custom NBLM ChatBot, you'll only be able to ask for summaries, of course!_ \n",
    "    \n",
    "</details>"
   ]
  },
  {
   "cell_type": "code",
   "execution_count": null,
   "id": "314f2578",
   "metadata": {},
   "outputs": [],
   "source": [
    "### Metrics and Real-World Application Scenarios  \n",
    "\n",
    "1. **Accuracy:**  \n",
    "   **Use Case:** Balanced datasets where false positives and false negatives have similar costs.  \n",
    "   **Example:** Spam filters or quality control in manufacturing.  \n",
    "   **Key Idea:** Overall correctness matters most when errors are equally impactful.  \n",
    "\n",
    "2. **Sensitivity (Recall):**  \n",
    "   **Use Case:** When missing positive cases has severe consequences.  \n",
    "   **Example:** Detecting cancer or fraud.  \n",
    "   **Key Idea:** Prioritize finding true positives over avoiding false positives.  \n",
    "\n",
    "3. **Specificity:**  \n",
    "   **Use Case:** When minimizing false positives is crucial.  \n",
    "   **Example:** Rare disease screening or security systems.  \n",
    "   **Key Idea:** Focus on correctly identifying negatives to avoid unnecessary actions.  \n",
    "\n",
    "4. **Precision:**  \n",
    "   **Use Case:** When false positives are more problematic than false negatives.  \n",
    "   **Example:** Legal predictions or spam classification.  \n",
    "   **Key Idea:** Ensure positive predictions are accurate to avoid costly mistakes.  \n",
    "\n",
    "Let me know if you'd like to explore trade-offs or deeper examples!"
   ]
  },
  {
   "cell_type": "code",
   "execution_count": null,
   "id": "f10f5bf7",
   "metadata": {},
   "outputs": [],
   "source": [
    "chatgpt link: https://chatgpt.com/share/673fbce7-d7e4-8008-92cf-669bb34a07c1"
   ]
  },
  {
   "cell_type": "markdown",
   "id": "83b9d1bb",
   "metadata": {},
   "source": [
    "### 3. Explore the amazon books dataset, seen previously at the start of the semester, providing some initital standard *exploratory data analysis (EDA)* and data summarization after pre-processing the dataset to meet the requirements below<br>\n",
    "\n",
    " 1. remove `Weight_oz`, `Width`, and `Height` \n",
    " 2. drop all remaining rows with `NaN` entries \n",
    " 3. set `Pub year` and `NumPages` to have the type `int`, and `Hard_or_Paper` to have the type `category`\n",
    "\n",
    "<details class=\"details-example\"><summary style=\"color:blue\"><u>Further Guidance</u></summary>\n",
    "\n",
    "> _`NaN` entries can't be used in their raw form with the `scikit-learn` methodologies, so we do need to remove them to proceed with our analyses._\n",
    ">     \n",
    "> _Only remove rows with `NaN` entries once you've subset to the columns you're interested in. This will minimize potentially unnecessary data loss..._\n",
    ">\n",
    "> _It would be possible to consider imputing missing data to further mitigate data loss, but the considerations for doing so are more advanced than the level of our course, so we'll not consider that for now._ \n",
    "\n",
    "</details>"
   ]
  },
  {
   "cell_type": "code",
   "execution_count": null,
   "id": "1c9c3c39",
   "metadata": {},
   "outputs": [],
   "source": [
    "import pandas as pd\n",
    "import numpy as np\n",
    "from sklearn import tree\n",
    "from sklearn.model_selection import train_test_split\n",
    "from sklearn.metrics import confusion_matrix, ConfusionMatrixDisplay\n",
    "from sklearn.metrics import accuracy_score, recall_score, make_scorer\n",
    "import graphviz as gv\n",
    "\n",
    "url = \"https://raw.githubusercontent.com/pointOfive/STA130_F23/main/Data/amazonbooks.csv\"\n",
    "ab = pd.read_csv(url, encoding=\"ISO-8859-1\")\n",
    "# create `ab_reduced_noNaN` based on the specs above"
   ]
  },
  {
   "cell_type": "code",
   "execution_count": null,
   "id": "f0c3b74e",
   "metadata": {},
   "outputs": [],
   "source": [
    "# Load the dataset\n",
    "url = \"https://raw.githubusercontent.com/pointOfive/STA130_F23/main/Data/amazonbooks.csv\"\n",
    "ab = pd.read_csv(url, encoding=\"ISO-8859-1\")\n",
    "\n",
    "# Drop unnecessary columns\n",
    "ab_reduced = ab.drop(columns=[\"Weight_oz\", \"Width\", \"Height\"])\n",
    "\n",
    "# Drop rows with NaN entries\n",
    "ab_reduced_noNaN = ab_reduced.dropna()\n",
    "\n",
    "# Change data types\n",
    "ab_reduced_noNaN[\"Pub year\"] = ab_reduced_noNaN[\"Pub year\"].astype(int)\n",
    "ab_reduced_noNaN[\"NumPages\"] = ab_reduced_noNaN[\"NumPages\"].astype(int)\n",
    "ab_reduced_noNaN[\"Hard_or_Paper\"] = ab_reduced_noNaN[\"Hard_or_Paper\"].astype(\"category\")\n",
    "\n",
    "# Confirm changes\n",
    "print(ab_reduced_noNaN.info())\n",
    "\n",
    "# Initial EDA\n",
    "# Summary statistics\n",
    "print(\"\\nSummary Statistics:\")\n",
    "print(ab_reduced_noNaN.describe(include=\"all\"))\n",
    "\n",
    "# Distribution of `Pub year`\n",
    "print(\"\\nUnique Publication Years and their Counts:\")\n",
    "print(ab_reduced_noNaN[\"Pub year\"].value_counts().sort_index())\n",
    "\n",
    "# Count of categories in `Hard_or_Paper`\n",
    "print(\"\\nCounts in Hard_or_Paper:\")\n",
    "print(ab_reduced_noNaN[\"Hard_or_Paper\"].value_counts())\n",
    "\n",
    "# Checking correlation among numerical features\n",
    "print(\"\\nCorrelation Matrix:\")\n",
    "print(ab_reduced_noNaN.corr(numeric_only=True))\n"
   ]
  },
  {
   "cell_type": "code",
   "execution_count": null,
   "id": "baf14990",
   "metadata": {},
   "outputs": [],
   "source": [
    "summary:\n",
    "Here’s a summarized approach for preprocessing and performing EDA on the Amazon Books dataset:\n",
    "\n",
    "### Preprocessing Steps:\n",
    "1. **Dropped Columns**: Removed `Weight_oz`, `Width`, and `Height`.\n",
    "2. **Removed Missing Data**: Dropped all rows with `NaN` values.\n",
    "3. **Converted Data Types**:\n",
    "   - `Pub year` and `NumPages` to `int`.\n",
    "   - `Hard_or_Paper` to `category`.\n",
    "\n",
    "### EDA Highlights:\n",
    "1. **Dataset Overview**:\n",
    "   - Basic summary statistics and data structure check using `.info()` and `.describe()`.\n",
    "2. **Distributions**:\n",
    "   - Examined unique counts of publication years and their frequency.\n",
    "   - Checked the count of categories in `Hard_or_Paper`.\n",
    "3. **Numerical Correlations**:\n",
    "   - Computed the correlation matrix for numerical columns (`Pub year`, `NumPages`).\n",
    "\n",
    "Let me know if you need code or visualizations for these steps!"
   ]
  },
  {
   "cell_type": "code",
   "execution_count": null,
   "id": "793c99a1",
   "metadata": {},
   "outputs": [],
   "source": [
    "chatgpt link: https://chatgpt.com/share/673fcfa1-a9a8-8008-b16c-c757c6eaf07e"
   ]
  },
  {
   "cell_type": "markdown",
   "id": "8fa1458b",
   "metadata": {},
   "source": [
    "### 4. Create an 80/20 split with 80% of the data as a training set *ab_reduced_noNaN_train* and 20% of the data testing set  *ab_reduced_noNaN_test* using either *df.sample(...)* as done in TUT or using *train_test_split(...)* as done in the previous HW, and report on how many observations there are in the training data set and the test data set.<br><br>Tell a ChatBot that you are about to fit a \"scikit-learn\" *DecisionTreeClassifier* model and ask what the two steps given below are doing; then use your ChatBots help to write code to \"train\" a classification tree *clf* using only the *List Price* variable to predict whether or not a book is a hard cover or paper back book using a *max_depth* of *2*; finally use *tree.plot_tree(clf)* to explain what *predictions* are made based on *List Price* for the fitted *clf* model"
   ]
  },
  {
   "cell_type": "code",
   "execution_count": null,
   "id": "07b5d547",
   "metadata": {
    "lines_to_next_cell": 0
   },
   "outputs": [],
   "source": [
    "y = pd.get_dummies(ab_reduced_noNaN[\"Hard_or_Paper\"])['H']\n",
    "X = ab_reduced_noNaN[['List Price']]"
   ]
  },
  {
   "cell_type": "code",
   "execution_count": null,
   "id": "d93c8352",
   "metadata": {},
   "outputs": [],
   "source": []
  },
  {
   "cell_type": "markdown",
   "id": "86f4843e",
   "metadata": {},
   "source": [
    "<details class=\"details-example\"><summary style=\"color:blue\"><u>Further Guidance</u></summary>\n",
    "\n",
    "> _To complete the final 80/20 split of the **observations** in a reproducible way, set a \"random seed\"._ \n",
    "> \n",
    "> - _A single **observation** consists of all the measurements made on a single entity, typically corresponding to a row of a data frame. In **Machine Learning**, a collection of values of interest measured for a single entity is called a \"vector\" and so the **observation** is referred to as a **vector**_.\n",
    ">    \n",
    "> _Asking the ChatBot about \"DecisionTreeClassifier .fit(...)\" can be helpful here..._\n",
    "> \n",
    "> _Should you use the \"ab_reduced_noNaN\" data, or the \"ab_reduced_noNaN_train\" data, or the \"ab_reduced_noNaN_test\" data to initially fit the classification tree? Why?_\n",
    ">    \n",
    "> _You can visualize your decision tree using the `tree.plot_tree(clf)` function shown in the `sklearn` documentation [here](\n",
    "https://scikit-learn.org/stable/auto_examples/tree/plot_unveil_tree_structure.html#what-is-the-values-array-used-here) and [here](https://scikit-learn.org/stable/modules/tree.html); but, to make it more immediately readible it might be better to use `graphviz`, which is demonstrated in the `sklearn` documentation [here](https://scikit-learn.org/stable/modules/tree.html#alternative-ways-to-export-trees)_ \n",
    ">    \n",
    "> ---\n",
    "> \n",
    "> _Don't forget to ask for summaries of all your different ChatBot sessions and organize and paste these into your homework notebook (including link(s) to chat log histories if you're using ChatBot); but, if you're using the STA130 custom NBLM ChatBot, you'll only be able to ask for summaries, of course!_ \n",
    "    \n",
    "</details>\n",
    "\n",
    "<details class=\"details-example\"><summary style=\"color:blue\"><u>Continue now...?</u></summary>\n",
    "\n",
    "### Pre-lecture VS Post-lecture HW\n",
    "\n",
    "Feel free to work on the \"Post-lecture\" HW below if you're making good progress and want to continue: for **HW 08** this could be reasonable because, as you'll see, the process of creating and using **classification decision trees** is quite similar to the process for creating and using **multiple linear regression** models. There are differences of course, such as how there is **coefficient hypothesis testing** in **multiple linear regression** and **confusion matrices** in **classification decision trees**, and so on. But you would very likely be able to leverage the silarities to make a lot of progress with **classification decision trees** based on your experience with **multiple linear regression**.\n",
    "    \n",
    "*The benefits of continue would are that (a) Consolidate the knowledge already learned and integrate it comprehensively. (b) Let you build experience interacting with ChatBots (and understand their strengths and limitations in this regard)... it's good to have sense of when using a ChatBot is the best way to figure something out, or if another approach (such as course provided resources or a plain old websearch for the right resourse) would be more effective*\n",
    "    \n",
    "</details>    \n",
    "\n",
    "## \"Post-lecture\" HW [*submission along with \"Pre-lecture\" HW is due prior to next TUT*]"
   ]
  },
  {
   "cell_type": "code",
   "execution_count": null,
   "id": "725ce84e",
   "metadata": {},
   "outputs": [],
   "source": [
    "from sklearn.model_selection import train_test_split\n",
    "\n",
    "# Assume `ab_reduced_noNaN` is your dataframe.\n",
    "train, test = train_test_split(ab_reduced_noNaN, test_size=0.2, random_state=42)\n",
    "\n",
    "# Reporting the sizes of train and test datasets\n",
    "print(f\"Number of observations in the training set: {train.shape[0]}\")\n",
    "print(f\"Number of observations in the test set: {test.shape[0]}\")\n"
   ]
  },
  {
   "cell_type": "code",
   "execution_count": null,
   "id": "479644c3",
   "metadata": {},
   "outputs": [],
   "source": [
    "from sklearn.tree import DecisionTreeClassifier\n",
    "from sklearn import tree\n",
    "import matplotlib.pyplot as plt\n",
    "\n",
    "# Extracting the feature and target variable\n",
    "X_train = train[['List Price']]  # Feature: List Price\n",
    "y_train = train['Hard_or_Paper']  # Target: Hard_or_Paper (hardcover or paperback)\n",
    "\n",
    "# Train the decision tree classifier\n",
    "clf = DecisionTreeClassifier(max_depth=2, random_state=42)\n",
    "clf.fit(X_train, y_train)\n",
    "\n",
    "# Visualize the decision tree\n",
    "plt.figure(figsize=(12, 8))\n",
    "tree.plot_tree(clf, feature_names=['List Price'], class_names=clf.classes_, filled=True)\n",
    "plt.show()\n"
   ]
  },
  {
   "cell_type": "markdown",
   "id": "cea035a1",
   "metadata": {},
   "source": [
    "### 5. Repeat the previous problem but this time visualize the *classification decision tree* based on the following specifications below; then explain generally how predictions are made for the *clf2* model<br>\n",
    "\n",
    "1. `X = ab_reduced_noNaN[['NumPages', 'Thick', 'List Price']]`\n",
    "2. `max_depth` set to `4`\n",
    "\n",
    "<details class=\"details-example\"><summary style=\"color:blue\"><u>Further Guidance</u></summary>\n",
    "\n",
    "> - _Use the same **train/test split** dataset used so far_\n",
    "> - _Train the **classification decision tree** `clf2` using **predictor variables** `NumPages`, `Thick` and `List Price`_ \n",
    "> - _Again **predict** whether or not a book is hard cover book or a paper back book_\n",
    "> - _You can visualize your decision tree using the `tree.plot_tree(clf)` function shown in the `sklearn` documentation [here](\n",
    "https://scikit-learn.org/stable/auto_examples/tree/plot_unveil_tree_structure.html#what-is-the-values-array-used-here) and [here](https://scikit-learn.org/stable/modules/tree.html); but, to make it more immediately readible it might be better to use `graphviz`, which is demonstrated in the `sklearn` documentation [here](https://scikit-learn.org/stable/modules/tree.html#alternative-ways-to-export-trees)_\n",
    ">\n",
    "> _If you are interested in how to find the best `max_depth` for a tree, ask ChatBot about \"GridSearchCV\"_\n",
    ">    \n",
    "> ---\n",
    "> \n",
    "> _Don't forget to ask for summaries of all your different ChatBot sessions and organize and paste these into your homework notebook (including link(s) to chat log histories if you're using ChatBot); but, if you're using the STA130 custom NBLM ChatBot, you'll only be able to ask for summaries, of course!_ \n",
    "    \n",
    "</details>"
   ]
  },
  {
   "cell_type": "code",
   "execution_count": null,
   "id": "3f093b75",
   "metadata": {},
   "outputs": [],
   "source": [
    "from sklearn.tree import DecisionTreeClassifier\n",
    "from sklearn import tree\n",
    "import matplotlib.pyplot as plt\n",
    "\n",
    "# Define feature and target variables\n",
    "X_train = train[['NumPages', 'Thick', 'List Price']]  # Predictor variables\n",
    "y_train = train['Hard_or_Paper']  # Target variable\n",
    "\n",
    "# Train a decision tree classifier with max_depth=4\n",
    "clf2 = DecisionTreeClassifier(max_depth=4, random_state=42)\n",
    "clf2.fit(X_train, y_train)\n",
    "\n",
    "# Visualize the decision tree\n",
    "plt.figure(figsize=(18, 10))\n",
    "tree.plot_tree(\n",
    "    clf2, \n",
    "    feature_names=['NumPages', 'Thick', 'List Price'], \n",
    "    class_names=clf2.classes_, \n",
    "    filled=True\n",
    ")\n",
    "plt.show()\n"
   ]
  },
  {
   "cell_type": "code",
   "execution_count": null,
   "id": "7e4c15ef",
   "metadata": {},
   "outputs": [],
   "source": [
    "pip install graphviz\n"
   ]
  },
  {
   "cell_type": "code",
   "execution_count": null,
   "id": "a482af0a",
   "metadata": {},
   "outputs": [],
   "source": [
    "import graphviz\n",
    "\n",
    "# Export the decision tree to Graphviz format\n",
    "dot_data = tree.export_graphviz(\n",
    "    clf2, \n",
    "    out_file=None, \n",
    "    feature_names=['NumPages', 'Thick', 'List Price'], \n",
    "    class_names=clf2.classes_, \n",
    "    filled=True, \n",
    "    rounded=True, \n",
    "    special_characters=True\n",
    ")\n",
    "\n",
    "# Visualize with Graphviz\n",
    "graph = graphviz.Source(dot_data)\n",
    "graph.render(\"clf2_decision_tree\")  # Save the tree as a file\n",
    "graph.view()  # Open the visualization\n"
   ]
  },
  {
   "cell_type": "code",
   "execution_count": null,
   "id": "3f9d80ae",
   "metadata": {},
   "outputs": [],
   "source": [
    "from sklearn.model_selection import GridSearchCV\n",
    "\n",
    "# Define the parameter grid\n",
    "param_grid = {'max_depth': [2, 3, 4, 5, 6, 7, None]}  # None means no limit\n",
    "\n",
    "# Initialize GridSearchCV\n",
    "grid_search = GridSearchCV(\n",
    "    estimator=DecisionTreeClassifier(random_state=42), \n",
    "    param_grid=param_grid, \n",
    "    cv=5, \n",
    "    scoring='accuracy'\n",
    ")\n",
    "\n",
    "# Fit GridSearchCV on the training data\n",
    "grid_search.fit(X_train, y_train)\n",
    "\n",
    "# Best max_depth\n",
    "print(f\"Best max_depth: {grid_search.best_params_['max_depth']}\")\n",
    "print(f\"Best cross-validated accuracy: {grid_search.best_score_}\")\n"
   ]
  },
  {
   "cell_type": "markdown",
   "id": "8104ddb1",
   "metadata": {},
   "source": [
    "### 6. Use previously created *ab_reduced_noNaN_test* to create confusion matrices for *clf* and *clf2*. Report the sensitivity, specificity and accuracy for each of the models<br>\n",
    "\n",
    "<details class=\"details-example\"><summary style=\"color:blue\"><u>Further Guidance</u></summary>\n",
    "\n",
    "> _Hopefully you immediately thought to ask ChatBot to help you with this problem, but if you did you should take time to make sure you're clear about the key components of what the ChatBot is providing for you. You might want to know_\n",
    "> - _what is a \"positive\" and what is a \"negative\"_\n",
    "> - _how to read an `sklearn` confusion matrix_\n",
    "> - _what leads to TP, TN, FP, and FN_\n",
    "> - _whether `y_true` or `y_pred` go first in the `confusion_matrix` function_   \n",
    ">\n",
    "> _Have the visualizations you make use decimal numbers with three signifiant digits, such as `0.123` (and not as percentages like `12.3%`), probably based on `np.round()`_\n",
    ">    \n",
    "> ---\n",
    "> \n",
    "> _Don't forget to ask for summaries of all your different ChatBot sessions and organize and paste these into your homework notebook (including link(s) to chat log histories if you're using ChatBot); but, if you're using the STA130 custom NBLM ChatBot, you'll only be able to ask for summaries, of course!_ \n",
    "       \n",
    "</details>"
   ]
  },
  {
   "cell_type": "code",
   "execution_count": null,
   "id": "3a5bd780",
   "metadata": {},
   "outputs": [],
   "source": [
    "from sklearn.model_selection import train_test_split\n",
    "\n",
    "# Assuming ab_reduced_noNaN is the original DataFrame\n",
    "ab_reduced_noNaN_train, ab_reduced_noNaN_test = train_test_split(\n",
    "    ab_reduced_noNaN, test_size=0.2, random_state=42\n",
    ")\n",
    "\n",
    "# Debug: Print shapes to confirm\n",
    "print(\"Training set shape:\", ab_reduced_noNaN_train.shape)\n",
    "print(\"Test set shape:\", ab_reduced_noNaN_test.shape)\n"
   ]
  },
  {
   "cell_type": "code",
   "execution_count": null,
   "id": "64efe3fa",
   "metadata": {},
   "outputs": [],
   "source": [
    "# Check column names in ab_reduced_noNaN_test\n",
    "print(ab_reduced_noNaN_test.columns)\n",
    "\n",
    "# If the target column name is different, update accordingly\n",
    "# For example:\n",
    "# y_test = ab_reduced_noNaN_test['Hard_or_Paper']  # Update based on the actual column name\n"
   ]
  },
  {
   "cell_type": "code",
   "execution_count": null,
   "id": "411c98ae",
   "metadata": {},
   "outputs": [],
   "source": [
    "# Define features and target for the test dataset\n",
    "X_test_clf = ab_reduced_noNaN_test[['List Price']]  # For clf\n",
    "X_test_clf2 = ab_reduced_noNaN_test[['NumPages', 'Thick', 'List Price']]  # For clf2\n",
    "y_test = ab_reduced_noNaN_test['Hard_or_Paper']  # Ensure this matches your target column\n",
    "\n",
    "# Make predictions\n",
    "y_pred_clf = clf.predict(X_test_clf)\n",
    "y_pred_clf2 = clf2.predict(X_test_clf2)\n"
   ]
  },
  {
   "cell_type": "code",
   "execution_count": null,
   "id": "77a4ee4e",
   "metadata": {},
   "outputs": [],
   "source": [
    "# Calculate metrics for clf\n",
    "sensitivity_clf, specificity_clf, accuracy_clf = calculate_metrics(y_test, y_pred_clf)\n",
    "\n",
    "# Calculate metrics for clf2\n",
    "sensitivity_clf2, specificity_clf2, accuracy_clf2 = calculate_metrics(y_test, y_pred_clf2)\n",
    "\n",
    "# Display results\n",
    "results = pd.DataFrame({\n",
    "    'Model': ['clf', 'clf2'],\n",
    "    'Sensitivity': [sensitivity_clf, sensitivity_clf2],\n",
    "    'Specificity': [specificity_clf, specificity_clf2],\n",
    "    'Accuracy': [accuracy_clf, accuracy_clf2]\n",
    "})\n",
    "print(results)\n"
   ]
  },
  {
   "cell_type": "code",
   "execution_count": null,
   "id": "0629c379",
   "metadata": {},
   "outputs": [],
   "source": [
    "import matplotlib.pyplot as plt\n",
    "import seaborn as sns\n",
    "\n",
    "# Function to plot confusion matrix\n",
    "def plot_confusion_matrix(y_true, y_pred, model_name):\n",
    "    cm = confusion_matrix(y_true, y_pred)\n",
    "    plt.figure(figsize=(6, 4))\n",
    "    sns.heatmap(cm, annot=True, fmt='d', cmap='Blues', xticklabels=['Paperback', 'Hardcover'], yticklabels=['Paperback', 'Hardcover'])\n",
    "    plt.xlabel('Predicted')\n",
    "    plt.ylabel('Actual')\n",
    "    plt.title(f'Confusion Matrix for {model_name}')\n",
    "    plt.show()\n",
    "\n",
    "# Plot confusion matrices\n",
    "plot_confusion_matrix(y_test, y_pred_clf, 'clf')\n",
    "plot_confusion_matrix(y_test, y_pred_clf2, 'clf2')\n"
   ]
  },
  {
   "cell_type": "code",
   "execution_count": null,
   "id": "d5fd0a3f",
   "metadata": {},
   "outputs": [],
   "source": [
    "summary:\n",
    "### **Session Summary**\n",
    "\n",
    "In this session, you worked on a decision tree classification problem using the **`DecisionTreeClassifier`** from `scikit-learn`. Here’s a \n",
    "detailed summary:\n",
    "\n",
    "---\n",
    "\n",
    "### **1. Train-Test Split**\n",
    "- You aimed to split your dataset (`ab_reduced_noNaN`) into training (80%) and testing (20%) sets using `train_test_split` with a random \n",
    "seed for reproducibility.\n",
    "- This split ensured separate datasets for model training and evaluation (`ab_reduced_noNaN_train` and `ab_reduced_noNaN_test`).\n",
    "\n",
    "---\n",
    "\n",
    "### **2. First Decision Tree (clf)**\n",
    "- You trained a decision tree (**clf**) to predict whether a book is hardcover or paperback using only the **`List Price`** feature, with \n",
    "a `max_depth=2`.\n",
    "- Encountered errors due to mismatched or missing column names (`Cover Type`, `Book Cover`, `Hard_or_Paper`) and resolved them by confirming \n",
    "column names.\n",
    "- Visualized the decision tree using `tree.plot_tree`, providing insight into the model's decision-making based on price thresholds.\n",
    "\n",
    "---\n",
    "\n",
    "### **3. Second Decision Tree (clf2)**\n",
    "- Expanded the model (**clf2**) by including multiple features (**`NumPages`**, **`Thick`**, **`List Price`**) with a `max_depth=4`.\n",
    "- Successfully visualized this tree using `graphviz` for better readability.\n",
    "- The tree's predictions were based on splits determined by combinations of the three features.\n",
    "\n",
    "---\n",
    "\n",
    "### **4. Evaluation Metrics**\n",
    "- Attempted to calculate **confusion matrices** and performance metrics (sensitivity, specificity, accuracy) for both models on the test \n",
    "set (`ab_reduced_noNaN_test`).\n",
    "- Encountered a `NameError` because the test set variable was undefined, indicating the need to recreate or reload the split.\n",
    "- Reviewed how to define true/false positives and negatives, and clarified that the `confusion_matrix` function requires `y_true` and \n",
    "`y_pred` as inputs.\n",
    "\n",
    "---\n",
    "\n",
    "### **Key Challenges and Solutions**\n",
    "- **KeyError issues:** Resolved by validating column names in the dataset.\n",
    "- **Undefined test set:** Suggested steps to recreate the train-test split with `train_test_split` and verify variable definitions.\n",
    "- **Model predictions:** Successfully demonstrated predictions using both single and multiple features.\n",
    "\n",
    "---\n",
    "\n",
    "### **Next Steps**\n",
    "1. Recreate the train-test split if necessary.\n",
    "2. Complete the confusion matrix calculations and compute sensitivity, specificity, and accuracy for both **clf** and **clf2**.\n",
    "3. Integrate visualizations and metrics into your notebook with rounded values (e.g., 0.123).\n",
    "\n",
    "\n",
    "chatgpt link: https://chatgpt.com/share/674000a9-e56c-8008-b51f-01d06270d85b"
   ]
  },
  {
   "cell_type": "markdown",
   "id": "8224840c",
   "metadata": {},
   "source": [
    "### 7. Explain in three to four sentences what is causing the differences between the following two confusion matrices below, and why the two confusion matrices above (for *clf* and *clf2*) are better<br>"
   ]
  },
  {
   "cell_type": "code",
   "execution_count": null,
   "id": "f3214102",
   "metadata": {
    "lines_to_next_cell": 2
   },
   "outputs": [],
   "source": [
    "ConfusionMatrixDisplay(\n",
    "    confusion_matrix(ab_reduced_noNaN_train.life_exp_good, \n",
    "                     clf.predict(ab_reduced_noNaN_train[['List Price']]), \n",
    "                     labels=[0, 1]), display_labels=[\"Paper\",\"Hard\"]).plot()\n",
    "ConfusionMatrixDisplay(\n",
    "    confusion_matrix(ab_reduced_noNaN_train.life_exp_good, \n",
    "                     clf.predict(\n",
    "                         ab_reduced_noNaN_train[['NumPages','Thick','List Price']]), \n",
    "                     labels=[0, 1]), display_labels=[\"Paper\",\"Hard\"]).plot()"
   ]
  },
  {
   "cell_type": "code",
   "execution_count": null,
   "id": "1f9c337a",
   "metadata": {},
   "outputs": [],
   "source": [
    "\"\"\"\n",
    "The differences between the two confusion matrices are due to the number and type of predictors used in the models. \n",
    "The first confusion matrix uses only the `List Price` predictor, while the second confusion matrix incorporates additional predictors: `NumPages` and `Thick`. \n",
    "This inclusion provides the second model with more information, potentially capturing more nuanced relationships with the target variable (`life_exp_good`), \n",
    "which might improve predictive performance. \n",
    "\n",
    "The two confusion matrices for `clf` and `clf2` (above) are likely better because they are associated with a different dataset or a more refined feature selection/model training process, \n",
    "resulting in a model that better generalizes to the data, leading to improved classification performance (e.g., higher precision, recall, or overall accuracy). The differences illustrate \n",
    "how adding more meaningful features and refining model specifications can influence predictive performance.\n",
    "\"\"\""
   ]
  },
  {
   "cell_type": "code",
   "execution_count": null,
   "id": "2d4b3370",
   "metadata": {},
   "outputs": [],
   "source": [
    "summary: \n",
    "You asked for an explanation of the differences between confusion matrices generated by two models. I explained that the differences arise \n",
    "from the number and type of predictors used (`List Price` alone versus `NumPages`, `Thick`, and `List Price`). I also highlighted that the \n",
    "models for `clf` and `clf2` are likely better due to refined feature selection or better generalization to the data. This demonstrates how \n",
    "adding predictors and refining models can improve classification performance."
   ]
  },
  {
   "cell_type": "code",
   "execution_count": null,
   "id": "4712abe6",
   "metadata": {},
   "outputs": [],
   "source": [
    "chatgpt link: https://chatgpt.com/share/67400144-2d00-8008-b1d2-7eca49c4f6f3"
   ]
  },
  {
   "cell_type": "markdown",
   "id": "a5aa712f",
   "metadata": {},
   "source": [
    "<details class=\"details-example\"><summary style=\"color:blue\"><u>Further Guidance</u></summary>\n",
    "    \n",
    "> _Don't forget to ask for summaries of all your different ChatBot sessions and organize and paste these into your homework notebook (including link(s) to chat log histories if you're using ChatBot); but, if you're using the STA130 custom NBLM ChatBot, you'll only be able to ask for summaries, of course!_ \n",
    "    \n",
    "</details>"
   ]
  },
  {
   "cell_type": "markdown",
   "id": "d1ec273f",
   "metadata": {},
   "source": [
    "### 8. Read the paragraphs in *Further Guidance* and ask a ChatBot how to visualize *feature Importances* available for *scikit-learn* *classification decision trees*; do so for *clf2*;  and use *.feature_names_in_* corresponding to *.feature_importances_* to report which *predictor variable* is most important for making predictions according to *clf2*<br>"
   ]
  },
  {
   "cell_type": "code",
   "execution_count": null,
   "id": "2f05b5aa",
   "metadata": {},
   "outputs": [],
   "source": [
    "import matplotlib.pyplot as plt\n",
    "import numpy as np\n",
    "\n",
    "# Get feature importances and feature names\n",
    "importances = clf2.feature_importances_\n",
    "feature_names = clf2.feature_names_in_\n",
    "\n",
    "# Sort the features by importance\n",
    "indices = np.argsort(importances)[::-1]  # Sort descending order\n",
    "sorted_importances = importances[indices]\n",
    "sorted_features = feature_names[indices]\n",
    "\n",
    "# Plot the feature importances\n",
    "plt.figure(figsize=(8, 6))\n",
    "plt.barh(sorted_features, sorted_importances, color=\"skyblue\")\n",
    "plt.xlabel(\"Feature Importance\")\n",
    "plt.ylabel(\"Features\")\n",
    "plt.title(\"Feature Importances for clf2\")\n",
    "plt.gca().invert_yaxis()  # To have the most important feature at the top\n",
    "plt.show()\n",
    "\n",
    "# Report the most important feature\n",
    "most_important_feature = sorted_features[0]\n",
    "most_important_value = sorted_importances[0]\n",
    "print(f\"The most important predictor variable is '{most_important_feature}' with an importance of {most_important_value:.2f}.\")\n"
   ]
  },
  {
   "cell_type": "code",
   "execution_count": null,
   "id": "4b4469da",
   "metadata": {},
   "outputs": [],
   "source": [
    "summary: \n",
    "You asked how to visualize feature importances for Scikit-learn decision tree classifiers. I explained how to use `.feature_importances_` with `.\n",
    "feature_names_in_` to map and display them in a horizontal bar plot using Matplotlib. I provided code for generating the visualization, \n",
    "sorting the features by importance, and identifying the most important predictor for `clf2`. This approach highlights \n",
    "which features contribute most to the model's predictions."
   ]
  },
  {
   "cell_type": "code",
   "execution_count": null,
   "id": "606ca777",
   "metadata": {},
   "outputs": [],
   "source": [
    "chatgpt link: https://chatgpt.com/share/67400144-2d00-8008-b1d2-7eca49c4f6f3"
   ]
  },
  {
   "cell_type": "markdown",
   "id": "0097b991",
   "metadata": {},
   "source": [
    "<details class=\"details-example\"><summary style=\"color:blue\"><u>Further Guidance</u></summary>\n",
    "  \n",
    "> The way a **classification decision tree** is fit is that at each step in the construction process of adding a new **decision node splitting rule** to the current **tree structure**, all possible **decision rules** for all possible **predictor variables** are considered, and the combination that improves the **prediction** the most (as measured by the criterion of either \"Gini impurity\" or \"Shannon entropy\") and in accordance with the rules of the decision tree (such as the `max_depth` argument) is added to the **classification decision tree**.  Thus overall \"criterion\" noted above improves with each new **decision node splitting rule**, so the improvement can thus be tracked and the improvement contributions attributed to the **feature** upon which the **decision node splitting rule** is based.  This means the relative contribution of each **predictor variable** to the overall explanatory power of the model can be calculated, and this is what the `.feature_importances_` attribute does. \n",
    ">\n",
    "> Compared to the simplicity of understanding how different **covariates** contribute towards the final **predicted values** of **multiple linear regression models** (by just reading off the equation to see how predictions work), the the complexity of how all the different **features** interact and combine to together to create the final **predictions** from **classification decision trees** can be staggering. But the so-called **feature importance** heuristics allows us to judge how relatively important the overall contributions from different features are in the final decision tree predictions. Now we just need to be sure we're not **overfitting** our **classification decision trees** since they can be so **complex**. Fortunately, the \"GridSearchCV\" methodology mentioned in regards to finding the best `max_depth` setting for a tree is going to provide a general answer to the challenge of complexity and **overfitting** in **machine learning models** that is not too hard to understand (and which you might already have some guesses or a hunch about). \n",
    "> \n",
    "> ---\n",
    "> \n",
    "> _Don't forget to ask for summaries of all your different ChatBot sessions and organize and paste these into your homework notebook (including link(s) to chat log histories if you're using ChatBot); but, if you're using the STA130 custom NBLM ChatBot, you'll only be able to ask for summaries, of course!_ \n",
    "       \n",
    "</details>"
   ]
  },
  {
   "cell_type": "markdown",
   "id": "ce15e8fb",
   "metadata": {},
   "source": [
    "### 9. Describe the differences of interpreting coefficients in linear model regression versus feature importances in decision trees in two to three sentences<br>\n",
    "\n",
    "<details class=\"details-example\"><summary style=\"color:blue\"><u>Further Guidance</u></summary>\n",
    "\n",
    "> _Linear model regression predicts continuous real-valued averages for a given configuration of covariate values (or, feature values, if we're using machine learning terminology instead of statistical terminology), whereas a binary classification model such as a binary classification tree predicts 0/1 (\"yes\" or \"no\") outcomes (and gives the probability of a 1 \"yes\" (or \"success\") outcome from which a 1/0 \"yes\"/\"no\" prediction can be made; but, this is not what is being asked here. This question is asking \"what's the difference in the way we can interpret and understand how the predictor variables influence the predictions in linear model regression based on the coefficients versus in binary decision trees based on the Feature Importances?\"_\n",
    ">    \n",
    "> ---\n",
    "> \n",
    "> _Don't forget to ask for summaries of all your different ChatBot sessions and organize and paste these into your homework notebook (including link(s) to chat log histories if you're using ChatBot); but, if you're using the STA130 custom NBLM ChatBot, you'll only be able to ask for summaries, of course!_ \n",
    "    \n",
    "</details>"
   ]
  },
  {
   "cell_type": "code",
   "execution_count": null,
   "id": "5337e40a",
   "metadata": {},
   "outputs": [],
   "source": [
    "In linear regression, coefficients represent the expected change in the dependent variable for a one-unit change in the corresponding \n",
    "predictor, assuming other predictors remain constant. This provides a direct, interpretable relationship between predictors and the target \n",
    "variable. In contrast, decision tree feature importances quantify how much a feature contributes to reducing impurity (such as Gini \n",
    "impurity or entropy) in the tree’s splits, which indirectly reflects the predictor's ability to influence the model's decisions. While \n",
    "linear regression gives a continuous, direct interpretation, decision tree feature importances offer a more abstract measure based on how \n",
    "the feature helps the model's predictive accuracy through its splits."
   ]
  },
  {
   "cell_type": "code",
   "execution_count": null,
   "id": "10ff6353",
   "metadata": {},
   "outputs": [],
   "source": [
    "summary:\n",
    "You asked about the difference in interpreting coefficients in linear regression versus feature importances in decision trees. \n",
    "I explained that in linear regression, coefficients show the direct relationship between predictors and the target variable, \n",
    "indicating how changes in a predictor affect the predicted outcome. In decision trees, feature importances reflect how much a \n",
    "feature helps in reducing impurity at each split, providing an indirect measure of its contribution to the model's decision-making process."
   ]
  },
  {
   "cell_type": "code",
   "execution_count": null,
   "id": "f8925a7e",
   "metadata": {},
   "outputs": [],
   "source": [
    "chatgpt link: https://chatgpt.com/share/67400144-2d00-8008-b1d2-7eca49c4f6f3"
   ]
  },
  {
   "cell_type": "markdown",
   "id": "81b280c2",
   "metadata": {},
   "source": [
    "### 10. Have you reviewed the course wiki-textbook and interacted with a ChatBot (or, if that wasn't sufficient, real people in the course piazza discussion board or TA office hours) to help you understand all the material in the tutorial and lecture that you didn't quite follow when you first saw it?<br>\n",
    "  \n",
    "<details class=\"details-example\"><summary style=\"color:blue\"><u>Further Guidance</u></summary>\n",
    "\n",
    ">  _Here is the link of [wiki-textbook](https://github.com/pointOfive/stat130chat130/wiki) in case it gets lost among all the information you need to keep track of_  : )\n",
    "> \n",
    "> _Just answering \"Yes\" or \"No\" or \"Somewhat\" or \"Mostly\" or whatever here is fine as this question isn't a part of the rubric; but, the midterm and final exams may ask questions that are based on the tutorial and lecture materials; and, your own skills will be limited by your familiarity with these materials (which will determine your ability to actually do actual things effectively with these skills... like the course project...)_\n",
    "    \n",
    "</details>"
   ]
  },
  {
   "cell_type": "code",
   "execution_count": null,
   "id": "de47576b",
   "metadata": {},
   "outputs": [],
   "source": [
    "yes"
   ]
  },
  {
   "cell_type": "markdown",
   "id": "c994cb78",
   "metadata": {},
   "source": [
    "# Recommended Additional Useful Activities [Optional]\n",
    "\n",
    "The \"Ethical Profesionalism Considerations\" and \"Current Course Project Capability Level\" sections below **are not a part of the required homework assignment**; rather, they are regular weekly guides covering (a) relevant considerations regarding professional and ethical conduct, and (b) the analysis steps for the STA130 course project that are feasible at the current stage of the course \n",
    "\n",
    "<br>\n",
    "<details class=\"details-example\"><summary style=\"color:blue\"><u>Ethical Professionalism Considerations</u></summary>\n",
    "\n",
    "### Ethical Professionalism Considerations\n",
    "\n",
    "- Discuss with a ChatBox about consent and data collection for training models.\n",
    "    - Discuss the ethics of data collection for training decision trees, particularly the need for informed consent when personal data is involved.\n",
    "    - Evaluate the role of regulatory frameworks in ensuring ethical data collection practices.\n",
    "- Discuss with a ChatBox about accountability in automated decision-making.\n",
    "    - Address the challenges of holding systems and their developers accountable when decision trees lead to adverse outcomes.\n",
    "    - Explore legal and ethical frameworks for responsibility when automated decisions go wrong.\n",
    "- Discuss with a ChatBox about transparency and explainability in classification models.\n",
    "    - Discuss the importance of model transparency, particularly when using decision trees in sectors like healthcare or criminal justice.\n",
    "    - Explore methods to enhance the explainability of decision trees, such as visualization techniques and simplified decision paths.\n",
    "- Discuss with a ChatBox about impact of misclassifications in critical applications.\n",
    "    - Examine the consequences of false positives and false negatives in decision tree outcomes, using confusion matrices to highlight these issues.\n",
    "    - Discuss ethical responsibilities when deploying classifiers in high-stakes fields like medicine or law enforcement.\n",
    "    \n",
    "</details>    \n",
    "\n",
    "<details class=\"details-example\"><summary style=\"color:blue\"><u>Current Course Project Capability Level</u></summary>\n",
    "\n",
    "**Remember to abide by the [data use agreement](https://static1.squarespace.com/static/60283c2e174c122f8ebe0f39/t/6239c284d610f76fed5a2e69/1647952517436/Data+Use+Agreement+for+the+Canadian+Social+Connection+Survey.pdf) at all times.**\n",
    "\n",
    "Information about the course project is available on the course github repo [here](https://github.com/pointOfive/stat130chat130/tree/main/CP), including a draft [course project specfication](https://github.com/pointOfive/stat130chat130/blob/main/CP/STA130F23_course_project_specification.ipynb) (subject to change). \n",
    "- The Week 01 HW introduced [STA130F24_CourseProject.ipynb](https://github.com/pointOfive/stat130chat130/blob/main/CP/STA130F24_CourseProject.ipynb), and the [available variables](https://drive.google.com/file/d/1ISVymGn-WR1lcRs4psIym2N3or5onNBi/view). \n",
    "- Please do not download the [data](https://drive.google.com/file/d/1mbUQlMTrNYA7Ly5eImVRBn16Ehy9Lggo/view) accessible at the bottom of the [CSCS](https://casch.org/cscs) webpage (or the course github repo) multiple times."
   ]
  },
  {
   "cell_type": "markdown",
   "id": "9c57accd",
   "metadata": {},
   "source": [
    "> ### NEW DEVELOPMENT<br>New Abilities Achieved and New Levels Unlocked!!!    \n",
    "> \n",
    "> And with that, ALL LEVELS unlocked! \n",
    ">\n",
    "> CONGRATS, YOU LEGENDS! 🎉\n",
    ">\n",
    "> You’ve battled through the wild jungles of deadlines, defeated the mighty Homework Beasts, and climbed the towering Mount Procrastination. And guess what? YOU MADE IT TO THE TOP! 🏔️\n",
    "> \n",
    "> Take a bow, grab a treat, and enjoy the sweet, sweet taste of freedom(**just for now , because you still have to finish the project! But you are almost done!**). You’ve earned it. Now go out there and celebrate like the absolute rockstars you are! 🌟💪\n",
    ">"
   ]
  },
  {
   "cell_type": "markdown",
   "id": "361e9f6c",
   "metadata": {},
   "source": [
    "### Current Course Project Capability Level    \n",
    "    \n",
    "I mean, the **course project** is basically, like, essentially now.\n",
    "    \n",
    "- Will you be doing any **classification decision trees** stuff for the course project?\n",
    "    - You could consider making some [partial dependency plots](https://scikit-learn.org/stable/modules/partial_dependence.html) if so...\n",
    "    - those might provide an interesting analysis in addition to **tree structure** visualizations, **confusion matrices**, **feature importances**. and the standard \"in-sample versus out-of-sample\" **train-test validation** analysis that would be expected in a **machine learning context**\n",
    "    \n",
    "- You could see if there are any interesting columns that might make for a potentially interesting **classification decision tree** analysis\n",
    "    - You wouldn't have to though...\n",
    "    - But if you did you'd want to be able to articulate and explain why what you're doing with **classification decision trees** is appropriate and enlightening\n",
    "\n",
    "- Anyway, I guess that just leaves reviewing all the statistical techniques covered in STA130, and considering integrating them holistically into your project!\n",
    "    \n",
    "</details>        \n"
   ]
  },
  {
   "cell_type": "code",
   "execution_count": null,
   "id": "36ff6162",
   "metadata": {},
   "outputs": [],
   "source": []
  }
 ],
 "metadata": {
  "jupytext": {
   "cell_metadata_filter": "-all",
   "notebook_metadata_filter": "-all",
   "text_representation": {
    "extension": ".md",
    "format_name": "markdown"
   }
  },
  "kernelspec": {
   "display_name": "Python 3 (ipykernel)",
   "language": "python",
   "name": "python3"
  }
 },
 "nbformat": 4,
 "nbformat_minor": 5
}
